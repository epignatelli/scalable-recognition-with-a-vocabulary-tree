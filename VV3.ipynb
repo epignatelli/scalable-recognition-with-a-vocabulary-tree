{
 "cells": [
  {
   "cell_type": "code",
   "execution_count": 9,
   "metadata": {},
   "outputs": [],
   "source": [
    "import numpy as np\n",
    "import os\n",
    "from sklearn.cluster import KMeans\n",
    "import json\n",
    "import random\n",
    "import networkx as nx\n",
    "\n",
    "np.random.seed(1)\n",
    "random.seed(1)"
   ]
  },
  {
   "cell_type": "code",
   "execution_count": 66,
   "metadata": {},
   "outputs": [],
   "source": [
    "import numpy as np\n",
    "import sys\n",
    "\n",
    "class CIBR(object):\n",
    "    def __init__(self, dataset, n_branches, depth):\n",
    "        self.dataset = dataset\n",
    "        self.n_branches = n_branches\n",
    "        self.depth = depth\n",
    "        self.tree = {}\n",
    "        self.nodes = {}\n",
    "        self.leaves = {}\n",
    "        \n",
    "        # private:\n",
    "        self._current_index = 0\n",
    "        \n",
    "    def extract_features(self):\n",
    "        # dummy features to test\n",
    "        # replace with Antonio's \n",
    "        ones = np.ones(1)\n",
    "        return np.array([ones, ones * 2, ones * 10, ones * 11])\n",
    "        \n",
    "    def create_tree(self, features=None, node=0, root=None, current_depth=0):\n",
    "        if features is None:\n",
    "            features = self.extract_features()\n",
    "        if root is None:\n",
    "            root = np.mean(features)\n",
    "        \n",
    "        self.nodes[node] = root\n",
    "        \n",
    "        # if `node` is a leaf node, return\n",
    "        if current_depth >= self.depth or len(features) < self.n_branches:\n",
    "            return\n",
    "        \n",
    "        # group features by cluster\n",
    "        model = KMeans(n_clusters=self.n_branches)\n",
    "        model.fit(features)\n",
    "        children = [[] for i in range(self.n_branches)]\n",
    "        for i in range(len(features)):\n",
    "            children[model.labels_[i]].append(features[i])\n",
    "        \n",
    "        # cluster children\n",
    "        self.tree[node] = []\n",
    "        for i in range(self.n_branches):\n",
    "            self._current_index += 1\n",
    "            self.tree[node].append(self._current_index)\n",
    "            self.create_tree(children[i], self._current_index, model.cluster_centers_[i], current_depth + 1, )\n",
    "        return\n",
    "\n",
    "    def create_index(self, image_path):\n",
    "        points, features = self.extract_features(image_path)\n",
    "        for feature in features:\n",
    "            leaf = self._find_leaf_id(feature)\n",
    "            if self._get_image_id(image_path) in self.leaves[leaf]:\n",
    "                self.leaves[leaf][self._get_image_id(image_path)] += 1\n",
    "            else:\n",
    "                self.leaves[leaf][self._get_image_id(image_path)] = 1\n",
    "        return\n",
    "\n",
    "    def _get_image_id(self, image_path):\n",
    "        return os.path.splitext(os.path.basename(image_path))[0]\n",
    "\n",
    "    def _find_leaf_id(self, feature, root=0):\n",
    "        \"\"\"\n",
    "        Returns the leaf of the tree closest to the input feature\n",
    "        Args:\n",
    "            feature (numpy.ndarray): The feature to lookup\n",
    "            root (int): Node id to start the search from.\n",
    "                        Default is 0, meaning the very root of the tree\n",
    "        \"\"\"\n",
    "        min_dist = float(\"inf\")\n",
    "        node = None\n",
    "        for child in self.tree[root]:\n",
    "            distance = np.linalg.norm([self.nodes[child] - feature])\n",
    "            if distance < min_dist:\n",
    "                min_dist = distance\n",
    "                node = child\n",
    "        return node if len(self.tree[node]) == 0 else self._find_leafid(feature, node)\n",
    "\n",
    "    def encode(self, image):\n",
    "        \"\"\"\n",
    "        Returns the representation of a new image using the vocabulary tree\n",
    "        Args:\n",
    "            image (numpy.ndarray): image to encode\n",
    "        Return:\n",
    "            (numpy.ndarray): The encoded image\n",
    "        \"\"\"\n",
    "        pass\n",
    "\n",
    "    def scores(self, query):\n",
    "        \"\"\"\n",
    "        Scores the current query image against the images in the database\n",
    "        Args:\n",
    "            query (numpy.ndarray): Query image\n",
    "        Returns:\n",
    "            (numpy.ndarray): \n",
    "        \"\"\"\n",
    "        pass"
   ]
  },
  {
   "cell_type": "code",
   "execution_count": 74,
   "metadata": {},
   "outputs": [
    {
     "name": "stdout",
     "output_type": "stream",
     "text": [
      "{0: [1, 4], 1: [2, 3], 4: [5, 6]}\n",
      "{0: 6.0, 1: array([1.5]), 2: array([1.]), 3: array([2.]), 4: array([10.5]), 5: array([10.]), 6: array([11.])}\n"
     ]
    }
   ],
   "source": [
    "vv3 = CIBR(None, 2, 2)\n",
    "vv3.create_tree()\n",
    "print(vv3.tree)\n",
    "print(vv3.nodes)"
   ]
  },
  {
   "cell_type": "code",
   "execution_count": 86,
   "metadata": {},
   "outputs": [
    {
     "data": {
      "image/png": "[encoded data removed]",
      "text/plain": [
       "<Figure size 432x288 with 1 Axes>"
      ]
     },
     "metadata": {},
     "output_type": "display_data"
    }
   ],
   "source": [
    "graph = nx.DiGraph()\n",
    "for k, v in vv3.tree.items():\n",
    "    graph.add_node(k)\n",
    "    for link in v:\n",
    "        graph.add_edge(k, link)\n",
    "\n",
    "pos = nx.drawing.nx_agraph.graphviz_layout(graph, prog='dot')\n",
    "nx.draw(graph, pos=pos, labels=vv3.nodes)"
   ]
  },
  {
   "cell_type": "code",
   "execution_count": 202,
   "metadata": {},
   "outputs": [
    {
     "name": "stdout",
     "output_type": "stream",
     "text": [
      "2.0\n",
      "10.5\n",
      "1.0\n"
     ]
    }
   ],
   "source": [
    "for node in vv3.nodes:\n",
    "    try:\n",
    "        print(vv3.nodes[node][0])\n",
    "    except:\n",
    "        pass"
   ]
  },
  {
   "cell_type": "code",
   "execution_count": 203,
   "metadata": {},
   "outputs": [
    {
     "ename": "TypeError",
     "evalue": "create_index() missing 1 required positional argument: 'image_path'",
     "output_type": "error",
     "traceback": [
      "\u001b[0;31m---------------------------------------------------------------------------\u001b[0m",
      "\u001b[0;31mTypeError\u001b[0m                                 Traceback (most recent call last)",
      "\u001b[0;32m<ipython-input-203-5efb555eddec>\u001b[0m in \u001b[0;36m<module>\u001b[0;34m\u001b[0m\n\u001b[0;32m----> 1\u001b[0;31m \u001b[0mvv3\u001b[0m\u001b[0;34m.\u001b[0m\u001b[0mcreate_index\u001b[0m\u001b[0;34m(\u001b[0m\u001b[0;34m)\u001b[0m\u001b[0;34m\u001b[0m\u001b[0;34m\u001b[0m\u001b[0m\n\u001b[0m",
      "\u001b[0;31mTypeError\u001b[0m: create_index() missing 1 required positional argument: 'image_path'"
     ]
    }
   ],
   "source": [
    "vv3.create_index()"
   ]
  },
  {
   "cell_type": "code",
   "execution_count": null,
   "metadata": {},
   "outputs": [],
   "source": []
  }
 ],
 "metadata": {
  "kernelspec": {
   "display_name": "Python 3",
   "language": "python",
   "name": "python3"
  },
  "language_info": {
   "codemirror_mode": {
    "name": "ipython",
    "version": 3
   },
   "file_extension": ".py",
   "mimetype": "text/x-python",
   "name": "python",
   "nbconvert_exporter": "python",
   "pygments_lexer": "ipython3",
   "version": "3.7.6"
  }
 },
 "nbformat": 4,
 "nbformat_minor": 4
}
