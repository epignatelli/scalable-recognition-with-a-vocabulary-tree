{
 "cells": [
  {
   "cell_type": "markdown",
   "metadata": {},
   "source": [
    "# Large-scale Content-Based Image Retrieval\n",
    "---"
   ]
  },
  {
   "cell_type": "markdown",
   "metadata": {},
   "source": [
    "This is how we would implement a CBIR model.  \n",
    "We will divide the CBIR into different functionalities and address each functional block as we go through the notebook. In the last part of the session, we will put everything together."
   ]
  },
  {
   "cell_type": "code",
   "execution_count": 17,
   "metadata": {},
   "outputs": [],
   "source": [
    "class CBIR:\n",
    "    def __init__(self, dataset):\n",
    "        self.dataset = dataset\n",
    "        self.index = None  # we haven't built an indexed database yet\n",
    "        return\n",
    "    \n",
    "    # >> TASK 1\n",
    "    def find_keypoints(self, image):\n",
    "        # Implement me using Maximally Stable Extremal Region\n",
    "        raise NotImplemented\n",
    "        # return keypoints on image\n",
    "        \n",
    "    # >> TASK 2\n",
    "    def extract_features(self, image):\n",
    "        # Implement me using Scale Invariant Feature Transform\n",
    "        raise NotImplemented\n",
    "        # return a list of 128-vector features\n",
    "    \n",
    "    # >> TASK 3\n",
    "    def create_vocabulary(self):\n",
    "        # Implement me using Hierarchical kmeans, Bag of Visual Word, and Term Frequency-Inverse Document Frequency (TF-IDF)  \n",
    "        raise NotImplemented\n",
    "        # return the tree and the index\n",
    "\n",
    "    # >> TASK 4\n",
    "    def encode(self, image):\n",
    "        # Implement me using vocabulary tree, please\n",
    "        raise NotImplemented\n",
    "        # return the vector representation of an image\n",
    "    \n",
    "    # >> TASK 5\n",
    "    def score(self, image_a, image_b):\n",
    "        raise NotImplemented\n",
    "        # return the similarity score between two images\n",
    "    \n",
    "    # >> TASK 6\n",
    "    def retrieve(self, query_image):\n",
    "        # this is the function we have described above\n",
    "        raise NotImplemented\n",
    "        # return the most similar images to the query image"
   ]
  },
  {
   "cell_type": "markdown",
   "metadata": {},
   "source": [
    "### 1.3. Creating a visual vocabulary"
   ]
  },
  {
   "cell_type": "markdown",
   "metadata": {},
   "source": [
    "<div style=\"margin:auto; float:right; margin-left: 50px; width: 60%\">\n",
    "<img src=\"images/tree_structure.png\">\n",
    "<!-- <em>Add image caption with reference</em> -->\n",
    "</div>\n",
    "<br>\n",
    "    \n",
    "<p style=\"color: #a00; font-weight: 700\">>> TASK 3</p>\n",
    "\n",
    "> In this section we are going to learn how to implement the function:\n",
    "```python\n",
    "# >> TASK 3\n",
    "def create_vocabulary(features):\n",
    "    # Implement me using Hierarchical kmeans\n",
    "    # return the tree and the index\n",
    "```\n",
    "\n",
    "In this section we provide a structure to the set of image representations collected in **1.2**.  \n",
    "We implement the [**Vocabulary tree structure**](https://ieeexplore.ieee.org/document/1641018) illustrated by Nister [ref], which uses Hierarchical KMeans to build the tree, and Term Frequency-Inverse Document Frequency to index each sample of the database."
   ]
  },
  {
   "cell_type": "markdown",
   "metadata": {},
   "source": [
    "<!-- A visual vocabulary is a list of key value pairs, where:\n",
    "- The key is the id of the image\n",
    "- The value is representation of the image into a vector\n",
    " -->\n",
    "**How we construct this vector is key for the retrieval performance**\n",
    "\n",
    "In this implementation of a Vocabulary Tree [ref], we:  \n",
    "***A.*** Build a hierarchical structure that largely fits the dataset: **the Tree**  \n",
    "***B.*** ***Index*** the images into the database, by propagating an image down the tree"
   ]
  },
  {
   "cell_type": "markdown",
   "metadata": {},
   "source": [
    "#### A. Building the tree using hierarchical k-means\n",
    "\n",
    "<br>\n",
    "<div style=\"margin:auto; float:left; margin-right: 50px; width: 33%;\">\n",
    "<img src=\"images/kmeans.png\">\n",
    "<!-- <em>Add image caption with reference</em> -->\n",
    "</div>\n",
    "<br>\n",
    "\n",
    "In this section we are going to hierarchically separate the features into clusters.  \n",
    "Given a set of features, they are split into `k` clusters.  \n",
    "The procedure is applied recursively on each of the clusters, until we reach a depth `L`.\n"
   ]
  },
  {
   "cell_type": "code",
   "execution_count": 23,
   "metadata": {},
   "outputs": [
    {
     "name": "stdout",
     "output_type": "stream",
     "text": [
      "Computing clusters 4/4 with 2 features from node 4 at level 1\t\t\r"
     ]
    },
    {
     "data": {
      "image/png": "[encoded data removed]",
      "text/plain": [
       "<Figure size 1080x360 with 1 Axes>"
      ]
     },
     "metadata": {},
     "output_type": "display_data"
    }
   ],
   "source": [
    "from cbir import CBIR\n",
    "import numpy as np\n",
    "\n",
    "# initialise the database\n",
    "database = CBIR(\"data/jpg\", n_branches=2, depth=2)\n",
    "\n",
    "# perform hierarchical k-means clustering on the features\n",
    "features = np.array([[1.], [2.], [11.], [12.]])\n",
    "database.fit(features)\n",
    "\n",
    "# plot the graph\n",
    "fig = database.draw(figsize=(15, 5), labels=database.nodes)"
   ]
  },
  {
   "cell_type": "markdown",
   "metadata": {},
   "source": [
    "#### 1.3. Indexing the tree using Term Frequency-Inverse Document Frequency\n",
    "\n",
    "<div style=\"margin:auto; float:right; margin-left: 50px; width: 30%\">\n",
    "<!-- <img src=\"images/vocabulary_tree.png\"> -->\n",
    "<!-- <em>Add image caption with reference</em> -->\n",
    "</div>\n",
    "<br>\n",
    "    \n",
    "<p style=\"color: #a00; font-weight: 700\">>> TASK 4</p>\n",
    "\n",
    "> In this section we are going to learn how to implement the function:\n",
    "```python\n",
    "def encode(dataset):\n",
    "    return indexed_database\n",
    "```\n",
    "\n",
    "In this section we provide a structure to the set of image representations collected in **1.2**.  \n",
    "We implement the [**Vocabulary tree structure**](https://ieeexplore.ieee.org/document/1641018) illustrated by Nister [ref], which uses inverted indices and hierarchical k-means to build the graph."
   ]
  },
  {
   "cell_type": "markdown",
   "metadata": {},
   "source": [
    "## 2. Online stage: get the _n_ most similar instances from a query image"
   ]
  },
  {
   "cell_type": "markdown",
   "metadata": {},
   "source": [
    "**2.1 Image Scoring**  \n",
    "<!-- <div style=\"margin-left: 230px\"> -->\n",
    "<br>\n",
    "\n",
    "\n",
    "<p style=\"color: #a00; font-weight: 700\">>> TASK 5</p>\n",
    "\n",
    "> In this section we are going to learn how to implement the function:\n",
    "```python\n",
    "def score(database, image):\n",
    "    return score\n",
    "```\n",
    "<!-- </div> -->\n"
   ]
  },
  {
   "cell_type": "code",
   "execution_count": null,
   "metadata": {},
   "outputs": [],
   "source": [
    "# We add some code here"
   ]
  },
  {
   "cell_type": "markdown",
   "metadata": {},
   "source": [
    "**2.2 Reindexing**\n",
    "\n",
    "Maybe this is not necessary *AAB: Agree - delete; I will discuss the pain of reindexing in lecture*"
   ]
  },
  {
   "cell_type": "code",
   "execution_count": null,
   "metadata": {},
   "outputs": [],
   "source": [
    "# We add some code here"
   ]
  },
  {
   "cell_type": "markdown",
   "metadata": {},
   "source": [
    "## 3. Complete CBIR model\n",
    "Here we bring together all the concepts we have illustrated above to build our Large-Scale CBIR system."
   ]
  },
  {
   "cell_type": "code",
   "execution_count": null,
   "metadata": {},
   "outputs": [],
   "source": [
    "# We add some code here"
   ]
  },
  {
   "cell_type": "markdown",
   "metadata": {},
   "source": [
    "## 4. [Optional] Features extraction with Deep Convolutional Neural Networks\n",
    "The excercises below this point are not mandatory. They provide a wider picture on how to build an efficient image representation. We will illustrate two techniques that will require elements of Deep Learning:\n",
    "- 4.1 Using pretrained deep artificial neural networks to build a representation of the image\n",
    "- 4.2 Fine tune a pretrained model on our database"
   ]
  },
  {
   "cell_type": "markdown",
   "metadata": {},
   "source": [
    "**4.1 Using a pre-trained network**"
   ]
  },
  {
   "cell_type": "markdown",
   "metadata": {},
   "source": [
    "We can either:\n",
    "- Illustrate http://www.cs.toronto.edu/~fritz/absps/esann-deep-final.pdf and use denoising autoencoders,\n",
    "- Or go more basic and use a DCNN (https://arxiv.org/abs/1404.1777)\n",
    "\n",
    "Regardless, I think that the best option is to use a pre-trained network - ResNet50?.  \n",
    "\n",
    "We can add also another step, if we have the time and people have the will, in wich we fine tune the network (only last layer?) on our database"
   ]
  },
  {
   "cell_type": "code",
   "execution_count": null,
   "metadata": {},
   "outputs": [],
   "source": [
    "# we add some code here"
   ]
  },
  {
   "cell_type": "code",
   "execution_count": null,
   "metadata": {},
   "outputs": [],
   "source": []
  }
 ],
 "metadata": {
  "kernelspec": {
   "display_name": "Python 3",
   "language": "python",
   "name": "python3"
  },
  "language_info": {
   "codemirror_mode": {
    "name": "ipython",
    "version": 3
   },
   "file_extension": ".py",
   "mimetype": "text/x-python",
   "name": "python",
   "nbconvert_exporter": "python",
   "pygments_lexer": "ipython3",
   "version": "3.7.1"
  }
 },
 "nbformat": 4,
 "nbformat_minor": 4
}
