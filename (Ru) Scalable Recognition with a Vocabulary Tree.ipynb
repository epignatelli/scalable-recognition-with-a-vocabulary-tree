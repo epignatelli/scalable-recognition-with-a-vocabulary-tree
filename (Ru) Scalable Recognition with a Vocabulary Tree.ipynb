{
 "cells": [
  {
   "cell_type": "markdown",
   "metadata": {},
   "source": [
    "<div width=50% style=\"display: block; margin: auto\">\n",
    "    <img src=\"images/ic_logo.png\" width=\"200\">\n",
    "    <img src=\"images/sberbank_logo.png\" width=\"250\" style=\"margin-left: 10%\">\n",
    "</div>\n",
    "\n",
    "<hr width=55% style=\"float: left\">"
   ]
  },
  {
   "cell_type": "markdown",
   "metadata": {
    "tags": []
   },
   "source": [
    "#### День 3\n",
    "# Компьютерное зрение. Масштабируемое распознавание с помощью словарного дерева\n",
    "\n",
    "### [Antonio Stanziola](https://github.com/astanziola) и [Eduardo Pignatelli](https://github.com/epignatelli)\n",
    "\n",
    "<hr width=70% style=\"float: left\">"
   ]
  },
  {
   "cell_type": "markdown",
   "metadata": {},
   "source": [
    "<div class=\"card\">\n",
    "    <div class=\"card-header\"><h4> ✔️ Цели</h4></div>\n",
    "</div>\n",
    "\n",
    "Целью этого практического занятия является реализация системы поиска изображений, похожих на данное изображение. В процессе работы вы узнаете, как изображение можно описать как векторы, а также как эффективно искать похожие векторы в большой базе данных"
   ]
  },
  {
   "cell_type": "markdown",
   "metadata": {
    "tags": []
   },
   "source": [
    "<div class=\"panel panel-default\">\n",
    "  <div class=\"panel-heading\"><h4> 📜 Содержание</h4></div>\n",
    "  <div class=\"panel-body\">\n",
    "\n",
    "1. [Вступление](#1.-Introduction)\n",
    "  - Задача поиска изображений\n",
    "  - Конвейер CBIR\n",
    "2. [Извлечение признаков](##2.-Features-extraction)\n",
    "  - Поиск ключевых точек\n",
    "  - Детекторы углов\n",
    "  - Извлечение локальных признаков\n",
    "3. [Создание визуального словаря](##3.-Creating-a-visual-vocabulary)\n",
    "  - Зачем использовать словарь?\n",
    "  - Построение дерева с помощью иерархических k-средних\n",
    "  - Индексирование базы данных с помощью TF-IDF (частота слова и обратная частота документа)\n",
    "4. [Оценка и поиск (сетевой этап)](#4-Scoring-and-Retrieving-(the-online-phase))\n",
    "  - Поиск изображения в базе данных\n",
    "5. [Кодирование изображений с помощью глубинных сверточных нейронных сетей](#5.Image-encoding-with-Deep-Convolutional-Neural-Networks)\n",
    "<p/>\n",
    "  </div>\n",
    "</div>"
   ]
  },
  {
   "cell_type": "markdown",
   "metadata": {},
   "source": [
    "Пока мы представляем задачу, давайте скачаем данные, которые будем использовать в течение всего занятия. "
   ]
  },
  {
   "cell_type": "code",
   "execution_count": null,
   "metadata": {},
   "outputs": [],
   "source": [
    "!python cbir/download.py"
   ]
  },
  {
   "cell_type": "markdown",
   "metadata": {},
   "source": [
    "<br>\n",
    "\n",
    "## **1. Вступление**\n",
    "---"
   ]
  },
  {
   "cell_type": "markdown",
   "metadata": {},
   "source": [
    "### 1.1 Задача поиска изображений\n",
    "\n",
    "<img src=\"images/CBIR.png\" height=\"10\" width=\"400\" align=\"right\">\n",
    "\n",
    "Поиск изображений по содержанию (англ. Content-based image retrieval или CBIR) — это процесс поиска изображений в большой базе данных при наличии визуального поискового запроса. С технической точки зрения есть три компонента CBIR:  \n",
    "  1. Представление изображений\n",
    "  2. Организация базы данных\n",
    "  3. Измерение расстояния между изображениями\n",
    "\n",
    "Определение CBIR можно описать подробнее.\n",
    "\n",
    "> CIBR использует ***представление*** виртуального содержимого для выявления связанных изображений в базе данных.\n",
    "\n",
    "<u>В этом уроке мы сосредоточимся на задаче **поиска изображений по запросу**, где в качестве запроса используется образец изображения.</u>"
   ]
  },
  {
   "cell_type": "markdown",
   "metadata": {},
   "source": [
    "В конце этого урока должна получится указанная ниже функция.  \n",
    "Из этого пособия вы узнаете все составляющие, необходимые для реализации даннойфункции."
   ]
  },
  {
   "cell_type": "code",
   "execution_count": null,
   "metadata": {},
   "outputs": [],
   "source": [
    "def retrieve(database, query):\n",
    "    raise NotImplemented"
   ]
  },
  {
   "cell_type": "markdown",
   "metadata": {},
   "source": [
    "<div class=\"alert alert-heading alert-danger\" style=\"background-color: white; border: 2px solid; border-radius: 5px; color: #000; border-color:#AAA; padding: 10px\">\n",
    "<b>📝 Примечание </b>\n",
    "\n",
    "**На этом занятии и воспроизведем и реализуем метод из работы, которая стала основой для Поиска Google по изображениям:**  \n",
    "***[Nister, D. and Stewenius, H., 2006 г., июнь. Масштабируемое распознавание с помощью словарного дерева. Материалы конференции компьютерного сообщества IEEE 2006 года по вопросам компьютерного зрения и распознавания шаблонов (CVPR'06) (том. 2, с. 2161-2168). Ieee.](https://www.imperial.ac.uk/media/imperial-college/faculty-of-engineering/bioengineering/public/directions/Directions-to-Bessemer-Level-4-Meeting-Rooms-1-and-2.pdf)***\n",
    "\n",
    "</div>"
   ]
  },
  {
   "cell_type": "markdown",
   "metadata": {},
   "source": [
    "### 1.2 Процесс CBIR\n",
    "<hr width=20% align=left>\n",
    "Можно выделить два основных этапа CBIR: **автономный** этап и **сетевой** этап [ссылка]. Из этих этапов состоит высокоуровневая архитектура. Отдельно взятые компоненты используют комбинацию техник (например, обучение с учителем и без учителя).\n",
    "\n",
    "<div style=\"img {align: left}\">\n",
    "<img src=\"images/pipeline_extended.png\">\n",
    "<em>Источник рис. — Zheng и др, 2017 г. «SIFT и CNN: десятилетнее исследование поиска экземпляров».</em>\n",
    "<p/>\n",
    "</div>\n",
    "\n",
    "\n",
    "Целью **автономного** этапа является исопльзование стека изображений для создания индексированной базы данных. Мы стараемся делать так, чтобы основная вычислительная нагрузка приходилось на этот этап, чтобы упростить сетевой этап.\n",
    "Используются две основные операции:\n",
    "- Создание представления изображений\n",
    "- Эффективное индексирование изображений\n",
    "\n",
    "\n",
    "\n",
    "На **сетевом** этапе стоит задача — после получения изображения-*запроса* оценить часть изображений или все изображения в базе данных, а затем вернуть изображения с наивысшими баллами.\n",
    "\n"
   ]
  },
  {
   "cell_type": "markdown",
   "metadata": {},
   "source": [
    "Приведем пример реализации простой системы CBIR. Мы разделим CBIR на функции и рассмотрим каждый функциональный блок по мере продвижения в пособии. В последней части занятия мы соберем все блоки вместе."
   ]
  },
  {
   "cell_type": "code",
   "execution_count": null,
   "metadata": {},
   "outputs": [],
   "source": [
    "class CBIR:\n",
    "    def __init__(self, dataset):\n",
    "        self.dataset = dataset\n",
    "        self.database = None  # индексированная база данных еще не собрана\n",
    "        return\n",
    "    \n",
    "    #-- ЗАДАЧА 1\n",
    "    def find_keypoints(self, image):\n",
    "        # реализуйте с помощью MSER\n",
    "        raise NotImplemented\n",
    "        \n",
    "    #-- ЗАДАЧА 2\n",
    "    def extract_features(self, image):\n",
    "        # реализуйте с помощью SIFT\n",
    "        raise NotImplemented\n",
    "    \n",
    "    #-- ЗАДАЧА 3\n",
    "    def create_vocabulary(self, image):\n",
    "        # реализуйте с помощью extract_features и BOW\n",
    "        raise NotImplemented\n",
    "\n",
    "    #-- ЗАДАЧА 4\n",
    "    def encode(self, dataset):\n",
    "        # реализуйте с помощью словарного дерева\n",
    "        raise NotImplemented\n",
    "    \n",
    "    #-- ЗАДАЧА 5\n",
    "    def score(self, ref_image, query_image):\n",
    "        raise NotImplemented\n",
    "    \n",
    "    #-- ЗАДАЧА 6\n",
    "    def retrieve(self, query):\n",
    "        # это описанная выше функция\n",
    "        raise NotImplemented"
   ]
  },
  {
   "cell_type": "markdown",
   "metadata": {},
   "source": [
    "<br>\n",
    "\n",
    "## **2. Извлечение признаков**\n"
   ]
  },
  {
   "cell_type": "markdown",
   "metadata": {},
   "source": [
    "### 2.1 Поиск ключевых точек\n",
    "<hr width=20% align=left>"
   ]
  },
  {
   "cell_type": "markdown",
   "metadata": {},
   "source": [
    "<div style=\"margin:auto; float:right; margin-left: 50px; width: 45%\">\n",
    "<img src=\"images/features_extraction_only.jpeg\">\n",
    "<em>Разложение изображения на несколько «отличительных» локализованных регионов</em>\n",
    "</div>\n",
    "\n",
    "В этом разделе мы узнаем, как реализовать функцию:\n",
    "```python\n",
    "def find_keypoints(self, image):\n",
    "    raise features\n",
    "```\n",
    "Она извлекает набор ключевых точек, используемых для описания ихображения.\n",
    "\n",
    "Ключевые точки можно представить как **ориентиры** в сцене. Как и ориентиры в «человеческом» понимании, ключевые точки представляют собой определенные места в пространстве. В отличие от выбираемых людьми ориентиров, контрольные точки можно рассчитать непосредственно из данных изображения на основе такого принципа: ориентиры должны быть относительно разреженными, отличительными и стабильными. Когда ориентиры найдены, их можно использовать в качестве справочных точек, вокруг которыъ будут строиться дескрипторы окружающей структуры изображения."
   ]
  },
  {
   "cell_type": "markdown",
   "metadata": {},
   "source": [
    "#### Операции с изображениями\n",
    "\n",
    "Чтобы быстро производить операции с изображениями мы будем использовать [библиотеку open-cv](https://docs.opencv.org/master/d6/d00/tutorial_py_root.html). Сначала импортируем ее вместе с библиотекой `numpy` и `matplotlib` для построения изображений.\n",
    "\n",
    "Мы также вызываем функции, которые обрабатывают набор данных изображения, выполняют операции с ними и показывают изображения, а также отображают точки-ориентиры, которые мы обнаружим."
   ]
  },
  {
   "cell_type": "code",
   "execution_count": null,
   "metadata": {},
   "outputs": [],
   "source": [
    "import cv2\n",
    "import numpy as np\n",
    "from matplotlib import pyplot as plt\n",
    "\n",
    "import cbir\n",
    "\n",
    "# Загрузка набора данных\n",
    "dataset = cbir.Dataset()\n",
    "descriptor = cbir.descriptors.Orb()"
   ]
  },
  {
   "cell_type": "markdown",
   "metadata": {},
   "source": [
    "Рассмотрим случайное изображение из набора данных:"
   ]
  },
  {
   "cell_type": "code",
   "execution_count": null,
   "metadata": {},
   "outputs": [],
   "source": [
    "img = dataset.get_random_image()\n",
    "\n",
    "# Построение изображения\n",
    "plt.figure(figsize=(10,10))\n",
    "dataset.show_image(img)\n",
    "plt.title(\"Случайное изображение из набора данных\")\n",
    "plt.show()"
   ]
  },
  {
   "cell_type": "markdown",
   "metadata": {},
   "source": [
    "### Детектор углов \n",
    "\n",
    "Возможный набор интересных точек — это углы объектов на изображении. Мы будем использовать оператор детектора углов, разработанного [Гаррисом и Стивенсом](https://opencv-python-tutroals.readthedocs.io/en/latest/py_tutorials/py_feature2d/py_features_harris/py_features_harris.html), для их извлечения с изображения.\n",
    "\n",
    "Начнем с загрузки изображения с четко определенными углами в оттенках серого.\n",
    "Мы также можем легко выполнять операции с изображением с помощью `numpy`, как на примере ниже."
   ]
  },
  {
   "cell_type": "code",
   "execution_count": null,
   "metadata": {},
   "outputs": [],
   "source": [
    "# Загрузка и отображение изображения\n",
    "img = dataset.read_image('110901.jpg')\n",
    "z = np.sin(img/10.)\n",
    "\n",
    "# Функции построения\n",
    "plt.figure(figsize=(12,4))\n",
    "plt.subplot(121)\n",
    "dataset.show_image(img, gray=True)\n",
    "plt.title('110901.jpg')\n",
    "plt.subplot(122)\n",
    "dataset.show_image(z, gray=True)\n",
    "plt.title(\"$\\sin(I/10)$\")\n",
    "plt.show()"
   ]
  },
  {
   "cell_type": "markdown",
   "metadata": {},
   "source": [
    "Реализация детектора в opencv находится в `cv2.cornerHarris()` ([документация](https://docs.opencv.org/2.4/modules/imgproc/doc/feature_detection.html?highlight=cornerharris#cornerharris)). Попробуйте настроить параметры функций, чтобы улучшить обнаружение углов. Также поэкспериментируйте с разными изображениями."
   ]
  },
  {
   "cell_type": "markdown",
   "metadata": {},
   "source": [
    "<div class=\"alert alert-block alert-info\">\n",
    "<b>📝 Упражнение</b>\n",
    "\n",
    "Попробуйте изменить изображения выше и параметры обнаружения углов, чтобы посмотреть, как это повлияет на результаты. Просмотрите [документацию](https://docs.opencv.org/2.4/modules/imgproc/doc/feature_detection.html?highlight=cornerharris#cornerharris) по функции `cv2.cornerHarris()`, чтобы подробнее узнать о значении каждого параметра.\n",
    "\n",
    "</div>"
   ]
  },
  {
   "cell_type": "code",
   "execution_count": null,
   "metadata": {},
   "outputs": [],
   "source": [
    "cbir.marking.this_is_an_action_cell()\n",
    "\n",
    "\n",
    "# Параметры детектора углов\n",
    "\n",
    "# --- Вставьте свой код сюда ---\n",
    "block_size = 11\n",
    "kernel_size = 11\n",
    "aperture_parameter = 0.01\n",
    "treshold = 0.001\n",
    "# --- Конец кастомного кода ---\n",
    "\n",
    "\n",
    "# --- Построение, не удаляйте код ниже ---\n",
    "gray= cv2.cvtColor(img, cv2.COLOR_RGB2GRAY)\n",
    "dst = cv2.cornerHarris(gray, \n",
    "                       blockSize=block_size, \n",
    "                       ksize=kernel_size, \n",
    "                       k=aperture_parameter)\n",
    "dst = dst > treshold*dst.max()\n",
    "\n",
    "plt.figure(figsize=(15,10))\n",
    "descriptor.show_corners_on_image(gray,dst)"
   ]
  },
  {
   "cell_type": "markdown",
   "metadata": {},
   "source": [
    "#### Лучшее обнаружение контрольных точек\n",
    "\n",
    "Очевидно, на изображении кроме углов есть и другие интересные точки. Для них нужны более общие и утонченные детекторы ключевых точек. \n",
    "\n",
    "Пример современного детектора ключевых точек — метод [масштабно-инвариантной трансформации признаков (англ. scale-invariant feature transform, SIFT)](https://link.springer.com/content/pdf/10.1023/B:VISI.0000029664.99615.94.pdf). SIFT представляет собой дескриптор изобрадения для сопоставления и распознавания изображений. Его автором является Девид Лоу (1999, 2004). Этот дескриптор, а также связанные с ним дескрипторы изображений, используются для широкого спектра задач компьютерного зрения для сопоставления точек между разными проекциями 3D-сцены, а также распознавания объектов на основе проекций. На дескриптор SIFT практически не влияют преобразования, вращения и масштабирование в области отображения. Также он устойчив с умеренным изменениям перспективы и вариаций освещения [Лоу, 2004].\n",
    "\n",
    "Еще один передовой детектор ключевых точек (и дескриптор, как мы увидим позже) представлен в [детекторе ORB (Oriented FAST and Rotated BRIEF](https://opencv-python-tutroals.readthedocs.io/en/latest/py_tutorials/py_feature2d/py_orb/py_orb.html), который представляет собой более быструю, но несколько менее точную версию SIFT.\n",
    "\n",
    "В следующем коде вы настроите функцию детектора ORB, которую можно испытать на разных изображениях. Эту функцию можно использовать со всем набором данных, создавая список интересных точек для всех изображений. "
   ]
  },
  {
   "cell_type": "markdown",
   "metadata": {},
   "source": [
    "<div class=\"alert alert-block alert-info\">\n",
    "<b>📝 Упражнение</b>\n",
    "\n",
    "Просмотрев [документацию по детектору ORB](https://docs.opencv.org/3.4/db/d95/classcv_1_1ORB.html#adc371099dc902a9674bd98936e79739c), особенно п ометодами `create()` и `detect()`, попробуйте реализовать функцию ниже. Она берет изображение в качестве вводных данных и выдает список [ключевых точек](https://docs.opencv.org/3.4/d2/d29/classcv_1_1KeyPoint.html), сгенерированный детектором ORB.\n",
    "\n",
    "</div>"
   ]
  },
  {
   "cell_type": "code",
   "execution_count": null,
   "metadata": {},
   "outputs": [],
   "source": [
    "cbir.marking.this_is_an_action_cell()\n",
    "\n",
    "\n",
    "def find_keypoints(image):\n",
    "    ''' Данная функция должна взять изображение в качестве входных данных\n",
    "    и выдать список ключевых точек\n",
    "    '''\n",
    "    # --- Добавьте свой код сюда ---\n",
    "    # Создание детектора и настройка свойств\n",
    "    ...\n",
    "    # --- Конец кастомного кода ---\n",
    "    return keypoints"
   ]
  },
  {
   "cell_type": "markdown",
   "metadata": {},
   "source": [
    "<details>\n",
    "  <summary outline=\"1pt\">🆘 Что-то не получается? Нажмите здесь, чтобы посмотреть возможное решение</summary>\n",
    "\n",
    "```python\n",
    "def find_keypoints(image):\n",
    "    ''' Данная функция должна взять изображение в качестве входных данных\n",
    "    и выдать список ключевых точек\n",
    "    '''\n",
    "    \n",
    "    # Создание детектора и настройка свойств\n",
    "    orb = cv2.ORB.create()\n",
    "    \n",
    "    # Обнаружение ключевых точек\n",
    "    keypoints = orb.detect(image)\n",
    "    \n",
    "    return keypoints\n",
    "```  \n",
    "</details>"
   ]
  },
  {
   "cell_type": "markdown",
   "metadata": {},
   "source": [
    "Теперь у нас есть функция для обнаружения ключевых точек, а также их масштаба и ориентации."
   ]
  },
  {
   "cell_type": "code",
   "execution_count": null,
   "metadata": {},
   "outputs": [],
   "source": [
    "img = dataset.read_image('110901.jpg')\n",
    "\n",
    "keypoints = find_keypoints(img)\n",
    "\n",
    "plt.figure(figsize=(15,10))\n",
    "# Отображаются только каждые 10 ключевых точек\n",
    "img2 = cv2.drawKeypoints(img, keypoints[::10], None, color=(0,255,0), flags=4)\n",
    "dataset.show_image(img2)"
   ]
  },
  {
   "cell_type": "markdown",
   "metadata": {},
   "source": [
    "<div class=\"alert alert-block alert-info\">\n",
    "<b>📝 Упражнение</b>\n",
    "\n",
    "Просмотрев [документацию по детектору ORB](https://docs.opencv.org/3.4/db/d95/classcv_1_1ORB.html#adc371099dc902a9674bd98936e79739c), попробуйте ихменить некоторые параметры и посмотреть, как это повлияет на обнаружение ключевых точек. Обратите внимание, как показывает опыт, для достаточного описания изображения требуется около 1500 ключевых точек на разных масштабах.\n",
    "\n",
    "</div>"
   ]
  },
  {
   "cell_type": "markdown",
   "metadata": {},
   "source": [
    "Вы также можете взять разные изображения и менять реализацию/параметры, чтобы узнать сильные и слабые стороны этого метода"
   ]
  },
  {
   "cell_type": "code",
   "execution_count": null,
   "metadata": {},
   "outputs": [],
   "source": [
    "cbir.marking.this_is_an_action_cell()\n",
    "\n",
    "\n",
    "# Попробуйте способ выше для случайного изображения в наборе данных\n",
    "# --- Добавьте код сюда ---\n",
    "image_id = '110901'\n",
    "# --- Конец кастомного кода ---\n",
    "\n",
    "\n",
    "img = dataset.read_image(image_id + '.jpg')\n",
    "\n",
    "keypoints = find_keypoints(img)\n",
    "\n",
    "plt.figure(figsize=(15,10))\n",
    "# Отображаются только каждые 10 ключевых точек\n",
    "img2 = cv2.drawKeypoints(img, keypoints[::10], None, color=(0,255,0), flags=4)\n",
    "dataset.show_image(img2)"
   ]
  },
  {
   "cell_type": "markdown",
   "metadata": {},
   "source": [
    "<br>\n",
    "<br>\n",
    "\n",
    "**2.2 Извлечение локальных признаков**  \n",
    "<hr width=20% align=left>\n",
    "<div style=\"margin: auto; float: left; margin-right: 50px; width: 19%\">\n",
    "<img src=\"images/bow.png\">\n",
    "<em>Мешок визуальных слов <a href=\"https://towardsdatascience.com/bag-of-visual-words-in-a-nutshell-9ceea97ce0fb\">[источник]</a></em>\n",
    "</div>\n",
    "\n",
    "В этом разделе мы узнаем, как реализовать такую функцию:\n",
    "```python\n",
    "def extract_descriptors(image, keypoints):\n",
    "    return embedding\n",
    "```\n",
    "\n",
    "Чтобы свести все интересные прихнаки изображения, мы реализуем [модель «Мешок визуальных слов»](https://towardsdatascience.com/bag-of-visual-words-in-a-nutshell-9ceea97ce0fb). Этот метод позаимствован из концепции «мешок слов» в области обработки естественных языков и переработан для визуальных элементов.\n",
    "\n",
    "В процессе CBIR изображение преобразуется в некое проестранство признаков. Это делается для достижения явного сопоставления, чтобы устранить влияние фона и потенциальных преобразований или изменений, но сохранить распознаваемость подлинного визуального содержимого.\n",
    "\n",
    "\n",
    "Получив признаки изображения, мы реализуем модель «Мешок визуальных слов». Этот метод позаимствован из концепции «мешок слов» в области обработки естественных языков и переработан в визуальный эквивалент."
   ]
  },
  {
   "cell_type": "markdown",
   "metadata": {},
   "source": [
    "<div class=\"alert alert-block alert-info\">\n",
    "<b>📝 Action</b>\n",
    "\n",
    "Просмотрев [документацию по детектору ORB](https://docs.opencv.org/3.4/db/d95/classcv_1_1ORB.html#adc371099dc902a9674bd98936e79739c), попробуйте реализовать функцию ниже, которая берет изображение и список ключевых точек в качестве входных данных и возвращает вычисленных дескриптор ORB\n",
    "\n",
    "</div>"
   ]
  },
  {
   "cell_type": "code",
   "execution_count": null,
   "metadata": {},
   "outputs": [],
   "source": [
    "cbir.marking.this_is_an_action_cell()\n",
    "\n",
    "\n",
    "def extract_descriptors(image, keypoints):\n",
    "    ''' Эта функция должны взять изображение и ключевые точки в качестве входных данных\n",
    "    и вернуть список признаков ORB\n",
    "    '''\n",
    "    # --- Вставьте свой код сюда ---\n",
    "    ...\n",
    "    # --- Конец кастомного кода ---\n",
    "    return features"
   ]
  },
  {
   "cell_type": "markdown",
   "metadata": {},
   "source": [
    "<details>\n",
    "  <summary outline=\"1pt\">🆘 Что-то не получается? Нажмите здесь, чтобы посмотреть возможное решение</summary>\n",
    "\n",
    "```python\n",
    "def extract_descriptors(image, keypoints):\n",
    "    ''' Эта функция должна взять изображение в качестве входных данных\n",
    "    и вернуть список ключевых точек\n",
    "    '''\n",
    "    orb = cv2.ORB.create(1500, nlevels=32)\n",
    "    keypoints, features = orb.compute(image, keypoints)\n",
    "    return features\n",
    "```  \n",
    "</details>"
   ]
  },
  {
   "cell_type": "markdown",
   "metadata": {},
   "source": [
    "Попробуйте эту функцию, посмотрев на первые **5** дескрипторов, извлеченных алгоритмом"
   ]
  },
  {
   "cell_type": "code",
   "execution_count": null,
   "metadata": {},
   "outputs": [],
   "source": [
    "img = dataset.read_image('131500.jpg')\n",
    "\n",
    "keypoints = find_keypoints(img)\n",
    "features = extract_descriptors(img, keypoints)\n",
    "\n",
    "print(\"Дескриптор 1-й ключевой точки:\\n {}\".format(features[0]))\n",
    "print(\"Дескриптор 2-й ключевой точки:\\n {}\".format(features[1]))\n",
    "print(\"Дескриптор 3-й ключевой точки:\\n {}\".format(features[2]))\n",
    "print(\"Дескриптор 4-й ключевой точки:\\n {}\".format(features[3]))\n",
    "print(\"Дескриптор 5-й ключевой точки:\\n {}\".format(features[4]))"
   ]
  },
  {
   "cell_type": "markdown",
   "metadata": {},
   "source": [
    "Теперь мы можем извлекать дескрипторы из ключевых точек изображения. Давайте визуализируем некоторые из них"
   ]
  },
  {
   "cell_type": "code",
   "execution_count": 20,
   "metadata": {},
   "outputs": [],
   "source": [
    "img = dataset.read_image('131200.jpg')\n",
    "keypoints = find_keypoints(img)\n",
    "patches = descriptor.extract_patches(img, keypoints)\n",
    "features = extract_descriptors(img, keypoints)\n",
    "\n",
    "descriptor.show_random_descriptors(img, keypoints, patches, features)"
   ]
  },
  {
   "cell_type": "markdown",
   "metadata": {},
   "source": [
    "Конечно, мы можем попробовать то же самое со случайным изображением"
   ]
  },
  {
   "cell_type": "code",
   "execution_count": 22,
   "metadata": {},
   "outputs": [],
   "source": [
    "img = dataset.get_random_image()\n",
    "\n",
    "keypoints = find_keypoints(img)\n",
    "patches = descriptor.extract_patches(img, keypoints)\n",
    "features = extract_descriptors(img, keypoints)\n",
    "\n",
    "descriptor.show_random_descriptors(img, keypoints, patches, features)"
   ]
  },
  {
   "cell_type": "markdown",
   "metadata": {},
   "source": [
    "Вы завершили первую половину урока!\n",
    "\n",
    "Предлагаем несколько ресурсов, с которыми можно ознакомиться, чтобы узнать больше о технологии контрольных точку и их описании:\n",
    "\n",
    "1. http://vision.stanford.edu/teaching/cs231a_autumn1112/lecture/lecture11_detectors_descriptors_cs231a.pdf\n",
    "2. http://vision.stanford.edu/teaching/cs231a_autumn1112/lecture/lecture12_SIFT_single_obj_recog_cs231a.pdf\n",
    "3. https://docs.opencv.org/3.4/db/d27/tutorial_py_table_of_contents_feature2d.html\n",
    "\n",
    "\n",
    "Следует особо отметить один важный аспект о ключевых точках, которые использовали в примере. В отличие от ключевых точек Гарриса, которые обычно определяют углы, ключевые точки SIFT также назначают пространственный масштаб: характерные регионы не обязательно маленькие, и могут быть размером со все изображение! Таким образом визуальные отпечатки — хоть они и одного измерения (обычно это 128 элементов) — могут описать всю сцену, но приблизительно. Подробности об отдельных меньших регионах предоставляются дескрипторами, связанными с контрольными точками меньшего пространственного масштаба."
   ]
  },
  {
   "cell_type": "markdown",
   "metadata": {},
   "source": [
    "<br>\n",
    "\n",
    "## **Глава 3: «Создание визуального словаря»**\n",
    "---"
   ]
  },
  {
   "cell_type": "markdown",
   "metadata": {},
   "source": [
    "В этом разделе мы узнаем, как реализовать данную функцию:\n",
    "```python\n",
    "def create_vocabulary(features):\n",
    "    # Реализуйте с помощью иерархических k-средних\n",
    "    # Вохвращает дерево и индекс\n",
    "```\n",
    "\n",
    "<br>\n",
    "    <b>Зачем использовать словарь?</b><br>\n",
    "Если есть очень большой словарь, то поиск изображений работает очень эффективно. Словарь — это набор всех признаков, извлеченных из доступных данных.\n",
    "\n",
    "Большой словарь позволяет описать базу данных более точно, что обеспечивает более эффективный поиск.\n",
    "\n",
    "Тем не менее, большие кодовые словари нереализуемы, поскольку **неиерархиеские методы плохо масштабируются**.\n",
    "Давайте рассмотрим, почему так происходит.\n",
    "\n",
    "У нас есть признак ***q***, а также список признаков базы данных ***D***.\n",
    "<u>Целью является поиск признака ***d<sub>i</sub>*** в базе данных, которая закрыта для признака запроса ***q***.</u>\n",
    "Рассматриваются два случая:\n",
    "- Плоский список\n",
    "- Иерархическое дерево"
   ]
  },
  {
   "cell_type": "markdown",
   "metadata": {},
   "source": [
    "<br>\n",
    "<div style=\"margin:auto; float:left; margin-right: 50px; width: 38%;\">\n",
    "    <center>Случай 1. Плоский список. Можно представить его как дерево со всего <code>l = 1</code> уровнем и <code>k = 27</code> ветвями.</center>\n",
    "    <center>Чтобы найти ближайший элемент в базе данных следует произвести <code>27</code> сравнений, потому что вы сравниваете признак запроса <i><b>q</b></i> напрямую со всеми 27 признаками из базы данных <i><b>d<sub>i</sub></b></i></center>\n",
    "    <br>\n",
    "<img src=\"images/flat_list.png\">\n",
    "    <center>$k^l$</center>\n",
    "</div>\n",
    "<div style=\"margin:auto; float:right; margin-left: 50px; width: 48%;\">\n",
    "    <center>Случай 1. Дерево с <code>l = 3</code> уровнями и <code>k = 3</code> ветвями.</center>\n",
    "    <center>Чтобы найти ближайший элемент в базе данных следует произвести <code>9</code> сравнений, потому что вы сравниваете признак запроса <i><b>q</b></i> с первыми <code>k = 3</code> виртуальными элементами, до <code>l = 3</code> уровней.</center>\n",
    "<img src=\"images/tree_27.png\">\n",
    "<center>$k * l$</center>\n",
    "</div>\n",
    "\n",
    "<br>"
   ]
  },
  {
   "cell_type": "markdown",
   "metadata": {},
   "source": [
    "Самое важное взятое нами из работы — это **механизм индексирования,**\n",
    "который обеспечивает крайне эффективный поиск.\n",
    "\n",
    "В нем предлагается **иерархическая оценка TF-IDF** с помощью\n",
    "иерархически определенных визуальных слов, которые формируют\n",
    "словарное дерево.\n",
    "\n",
    "Это обеспечивает гораздо более эффективный поиск визуальных слов,\n",
    "что позволяет использовать более крупные словари. Это приводит\n",
    "к значительному повышению качества поиска.\n"
   ]
  },
  {
   "cell_type": "markdown",
   "metadata": {},
   "source": [
    "<div style=\"margin:auto; float:right; margin-left: 50px; width: 60%\">\n",
    "<!--     <center>Конструкция данного вектора является крайне важной ждя эффективности поиска</b></center> -->\n",
    "\n",
    "<img src=\"images/tree_structure.png\">\n",
    "    <center>\n",
    "    Дерево напрямую определяет визуальный словарь и\n",
    "    эффективную процедуру поиска в интегрированном\n",
    "        виде.\n",
    "    </center>\n",
    "</div>\n",
    "<br>\n",
    "   \n",
    "\n",
    "В этом разделе мы создадим структуру набора представлений изображений, собранных в разделе **1.2**.  \n",
    "Мы реализуем [**структуру словарного дерева**](https://ieeexplore.ieee.org/document/1641018), показанную Нистером [источник], в которой для строительства дерева используются иерархические K-средние, а TF-IDF используется для индексирования каждой выборки базы данных."
   ]
  },
  {
   "cell_type": "markdown",
   "metadata": {},
   "source": [
    "<br>  \n",
    "\n",
    "> ***Рецепт:***   \n",
    "> ***2.1.*** Построение дерева с помощью k-средних   \n",
    "> ***2.2*** ***Индексирование*** базы данных с помощью TF-IDF (частота слова и обратная частота документа)   \n",
    "> ***2.3*** ***Оценка*** двух изображений   \n",
    "> ***2.4*** ***Поиск*** похожих изображений   "
   ]
  },
  {
   "cell_type": "markdown",
   "metadata": {},
   "source": [
    "<br>\n",
    "\n",
    "### 3.1 Построение дерева с помощью иерархических k-средних\n",
    "---\n",
    "\n",
    "<br>\n",
    "<div style=\"margin:auto; float:left; margin-right: 50px; width: 33%;\">\n",
    "<img src=\"images/kmeans.png\">\n",
    "</div>\n",
    "<br>\n",
    "\n",
    "В этом разделе мы иерархически отделим признаки в кластеры, используя ***иерархически k-средние***.\n",
    "\n",
    "`k` определяет множитель ветви дерева (количество\n",
    "детей каждого узла). Сначала запускается первый процесс\n",
    "k-средних на наборе тренировочных данных. Он определяется\n",
    "центры кластеров k. Тренировочные данные затем делятся\n",
    "на k-группы, где каждая группа состоит из векторов дескрипторов,\n",
    "наиболее близких к центру определенного кластера.\n",
    "\n",
    "Процедура применяется рекурсивно на каждом кластере до достижения глубины `L`.\n"
   ]
  },
  {
   "cell_type": "code",
   "execution_count": 26,
   "metadata": {},
   "outputs": [],
   "source": [
    "!dot -c"
   ]
  },
  {
   "cell_type": "code",
   "execution_count": 27,
   "metadata": {},
   "outputs": [],
   "source": [
    "import cbir\n",
    "import numpy as np\n",
    "\n",
    "# инициалзиация базы данных\n",
    "dataset = cbir.Dataset()\n",
    "subset = dataset.subset[0:10]\n",
    "orb = cbir.descriptors.Orb()\n",
    "voc = cbir.encoders.VocabularyTree(n_branches=2, depth=2, descriptor=orb)\n",
    "\n",
    "# разделение иерархических k-средних на кластеры по признакам\n",
    "features = np.array([[1.], [2.], [11.], [12.]])\n",
    "voc.fit(features)\n",
    "\n",
    "\n",
    "# построение графа\n",
    "fig = voc.draw(labels=voc.nodes, figsize=(5, 3), node_color=\"C1\")"
   ]
  },
  {
   "cell_type": "markdown",
   "metadata": {},
   "source": [
    "- Внутренние узлы дерева являются центрами кластеров\n",
    "- Листья узлов — это признаки, с которых мы начали\n",
    "\n"
   ]
  },
  {
   "cell_type": "markdown",
   "metadata": {},
   "source": [
    "Попробуйте сделать также со своими функциями. Помните:\n",
    "- `n_branches` контролирует, сколько узлов создавать из родительского узла (`k` на рисунке выше)\n",
    "- `depth` контролирует количество уровней дерева (`L` на рисунке выше)"
   ]
  },
  {
   "cell_type": "code",
   "execution_count": 28,
   "metadata": {},
   "outputs": [],
   "source": [
    "n_branches = 2\n",
    "depth = 3"
   ]
  },
  {
   "cell_type": "code",
   "execution_count": 29,
   "metadata": {},
   "outputs": [],
   "source": [
    "# инициалзиация базы данных\n",
    "voc = cbir.encoders.VocabularyTree(n_branches=n_branches, depth=depth, descriptor=orb)\n",
    "\n",
    "# разделение иерархических k-средних на кластеры по признакам\n",
    "voc.fit(np.random.randn(150, 1))\n",
    "\n",
    "# построение графа\n",
    "fig = voc.draw(figsize=(20, 7), labels=voc.nodes)"
   ]
  },
  {
   "cell_type": "markdown",
   "metadata": {},
   "source": [
    "<br> \n",
    "\n",
    "### 3.2 Индексирование базы данных с помощью TF-IDF (частота слова и обратная частота документа)\n",
    "---\n",
    "\n",
    "<div style=\"margin:auto; float:right; margin-roght: 50px; width: 40%\">\n",
    "<img src=\"images/index.png\">\n",
    "<!-- <em>Добавьте заголовок изображения со ссылкой</em> -->\n",
    "</div>\n",
    "<br>\n",
    "\n",
    "\n",
    "Индексирование — это процесс построение и хранения **таблицы базы данных** для выполнения эффективного **поиска**, например, для быстрого поиска определенного элемента базы данных.  \n",
    "Для задачи поиска изображения хранится индекс, который связывает изображение с его векторным представлением: **`image: vector`**\n",
    "\n",
    " В этом разделе мы узнаем, как реализуется функция:\n",
    "```python\n",
    "def encode(dataset):\n",
    "    return indexed_database\n",
    "```\n",
    "\n",
    "В этом разделе мы создадим структуру набора представлений изображений, собранных в разделе **1.2**.  \n",
    "Мы реализуем [**структуру словарного дерева**](https://ieeexplore.ieee.org/document/1641018), которая использует инвертированные индексы и иерархические k-средние для построения графа."
   ]
  },
  {
   "cell_type": "markdown",
   "metadata": {},
   "source": [
    "***Рецепт:***  \n",
    "1. При данном изображении для каждого признака мы распространяем признак по дереву.   \n",
    "2. Начиная с корня дерева находим ближайший узел среди дочерних узлов.  \n",
    "3. Применяем эту процедуру пока не достигнем дна дерева — листа.  \n",
    "4. При каждом прохождении через узел регистрируем прохождение, добавляя +1 узлу конкретного изображения.  \n",
    "\n",
    "<br>\n",
    "<div style=\"margin:auto; float:left; margin-right: 50px; width: 42%;\">\n",
    "    <center>\n",
    "    <b>Признак #1</b>\n",
    "        <br>\n",
    "    </center>\n",
    "<img src=\"images/encoded_a.png\">\n",
    "</div>\n",
    "<div style=\"margin:auto; float:right; margin-left: 50px; width: 42%;\">\n",
    "    <center>\n",
    "    <b>Признак #2</b>\n",
    "        <br>\n",
    "    </center>\n",
    "<img src=\"images/encoded_b.png\">\n",
    "</div>\n",
    "<br>\n",
    "<br>\n",
    "<div style=\"margin:auto; float:left; margin-right: 50px; width: 42%;\">\n",
    "        <center>\n",
    "            <b>...</b>\n",
    "            <br>\n",
    "    <b>Признак #3</b>\n",
    "    </center>\n",
    "<img src=\"images/encoded_c.png\">\n",
    "</div>\n",
    "<div style=\"margin:auto; float:right; margin-left: 50px; width: 42%;\">\n",
    "        <center>\n",
    "            <b>...</b>\n",
    "            <br>\n",
    "    <b>Признак #4</b>\n",
    "    </center>\n",
    "<img src=\"images/encoded_d.png\">\n",
    "</div>\n",
    "\n",
    "<!-- <em>Добавьте заголовок изображения и ссылку</em> -->\n",
    "</div>\n",
    "<br>"
   ]
  },
  {
   "cell_type": "markdown",
   "metadata": {},
   "source": [
    "<div style=\"margin:auto; float:center; width: 55%;\">\n",
    "    <br>\n",
    "    <center>\n",
    "        Мы распространили все признаки и считаем количество прохождений на каждом узле.     \n",
    "        <b>Это представление закодированного изображения</b>    \n",
    "    </center>\n",
    "    <img src=\"images/encoded_all.png\">\n",
    "</div>\n",
    " "
   ]
  },
  {
   "cell_type": "markdown",
   "metadata": {},
   "source": [
    "В результате получается схема TF-IDF: при пересечении узла мы оставляем на нем отпечаток:"
   ]
  },
  {
   "cell_type": "code",
   "execution_count": null,
   "metadata": {},
   "outputs": [],
   "source": [
    "import matplotlib.pyplot as plt\n",
    "\n",
    "# рассмотрим как кодируется изображение\n",
    "image_id = \"100000\"\n",
    "\n",
    "# посмотрим, какие мы кодируем изображения\n",
    "dataset.show_image(image_id)\n",
    "print(\"Image as perceived by us:\")\n",
    "plt.show()\n",
    "\n",
    "# как граф\n",
    "voc.subgraph(image_id)\n",
    "print(\"Image embedding as graph:\")\n",
    "plt.show()\n",
    "\n",
    "# и соответствующий вектор\n",
    "embedding = voc.embedding(dataset.read_image(image_id))\n",
    "print(\"\\nImage embedding as vector:\", embedding, \"\\n\")\n",
    "fig = plt.figure(figsize=(20, 3))\n",
    "plt.bar(np.arange(len(embedding)), embedding)\n",
    "plt.gca().set_title(\"TF-IDF\")\n",
    "plt.show()"
   ]
  },
  {
   "cell_type": "markdown",
   "metadata": {},
   "source": [
    "<div class=\"alert alert-block alert-info\">\n",
    "<b>📝 Упражнение</b>\n",
    "\n",
    "Измените `image_id` выше и попробуйте закодировать другое изображение\n",
    "\n",
    "</div>"
   ]
  },
  {
   "cell_type": "code",
   "execution_count": null,
   "metadata": {},
   "outputs": [],
   "source": [
    "cbir.marking.this_is_an_action_cell()\n",
    "\n",
    "\n",
    "# --- Добавьте свой код сюда ---\n",
    "\n",
    "image_id = \"100000\"\n",
    "\n",
    "# --- Конец кастомного кода ---\n",
    "\n",
    "\n",
    "# --- Построение, не удаляйте код ниже ---\n",
    "dataset.show_image(image_id)\n",
    "print(\"Image as perceived by us:\")\n",
    "plt.show()\n",
    "\n",
    "# как граф\n",
    "voc.subgraph(image_id)\n",
    "print(\"Image embedding as graph:\")\n",
    "plt.show()\n",
    "\n",
    "# и соответствующий вектор\n",
    "embedding = voc.embedding(dataset.read_image(image_id))\n",
    "print(\"\\nImage embedding as vector:\", embedding, \"\\n\")\n",
    "fig = plt.figure(figsize=(20, 3))\n",
    "plt.bar(np.arange(len(embedding)), embedding)\n",
    "plt.gca().set_title(\"TF-IDF\")\n",
    "plt.show()"
   ]
  },
  {
   "cell_type": "markdown",
   "metadata": {},
   "source": [
    "<br>\n",
    "\n",
    "## **Глава 4: «Оценка и поиск (сетевой этап)»**\n",
    "---\n"
   ]
  },
  {
   "cell_type": "markdown",
   "metadata": {},
   "source": [
    "<!-- <div style=\"margin-left: 230px\"> -->\n",
    "<br>\n",
    "\n",
    "<div style=\"margin:auto; float:right; margin-left: 50px; width: 30%\">\n",
    "<img src=\"images/image_similarity.jpg\">\n",
    "</div>\n",
    "<br>\n",
    "    \n",
    "В этом разделе мы узнаем, как реализовать функцию:\n",
    "```python\n",
    "def score(database, image):\n",
    "    return score\n",
    "```\n",
    "\n",
    "Целью оценки является сравнение двух изображений в форме встраивания и возвращение оценки их **подбности**.\n",
    "\n",
    "Когда определена квантизация, нам нужно определить\n",
    "значимость изображения из базы данных для изображения из запроса\n",
    "на основе похожести путей по словарном дереву\n",
    "для дескрипторов изображения из базы данных\n",
    "и изображения их запроса.\n",
    "\n",
    "<br>\n",
    "\n",
    "  "
   ]
  },
  {
   "cell_type": "markdown",
   "metadata": {},
   "source": [
    "Возьмем два изображения из базы данных и получим их встраивания"
   ]
  },
  {
   "cell_type": "code",
   "execution_count": null,
   "metadata": {},
   "outputs": [],
   "source": [
    "# возьмите два изображения, используя их id\n",
    "image_id_1 = \"104000\"\n",
    "image_id_2 = \"101000\"\n",
    "\n",
    "# прочитайте изображения\n",
    "image1 = dataset.read_image(image_id_1)\n",
    "image2 = dataset.read_image(image_id_2)\n",
    "\n",
    "# затем получите их встраивания\n",
    "em_1 = voc.embedding(image1)\n",
    "em_2 = voc.embedding(image2)\n",
    "\n",
    "print(\"\\nImage 1 embedding:\", em_1)\n",
    "print(\"\\n\\nImage 2 embedding:\", em_2)\n",
    "\n",
    "fig, ax = plt.subplots(1, 2, figsize=(30, 3))\n",
    "ax[0].bar(np.arange(len(em_1)), em_1)\n",
    "ax[0].set_title(\"Image 1 TF-IDF\")\n",
    "ax[1].bar(np.arange(len(em_2)), em_2)\n",
    "_ = ax[1].set_title(\"Image 2 TF-IDF\")"
   ]
  },
  {
   "cell_type": "markdown",
   "metadata": {},
   "source": [
    "<br>\n",
    "Мы также может посмотреть на их графовые представления"
   ]
  },
  {
   "cell_type": "code",
   "execution_count": 33,
   "metadata": {},
   "outputs": [],
   "source": [
    "voc.subgraph(image_id_1)\n",
    "voc.subgraph(image_id_2)"
   ]
  },
  {
   "cell_type": "markdown",
   "metadata": {},
   "source": [
    "В этой реализации для измерения оценки между двумя изображениями используется <b>евклидова норма</b>:"
   ]
  },
  {
   "cell_type": "markdown",
   "metadata": {
    "jupyter": {
     "outputs_hidden": true
    }
   },
   "source": [
    "$RMSE(x_1, x_2) = \\sqrt{\\sum(x_{1_i} - x_{2_i})^2}$\n"
   ]
  },
  {
   "cell_type": "code",
   "execution_count": null,
   "metadata": {},
   "outputs": [],
   "source": [
    "cbir.marking.this_is_an_action_cell()\n",
    "\n",
    "def score(x1, x2):\n",
    "    \"\"\"Возвращает евклидово расстояние между двумя тензорами\"\"\"\n",
    "    # --- Вставьте свой код сюда ---\n",
    "    rmse = ...\n",
    "    # --- Конец кастомного кода ---\n",
    "\n",
    "# --- Построение, не удаляйте код ниже ---\n",
    "    return rmse"
   ]
  },
  {
   "cell_type": "markdown",
   "metadata": {},
   "source": [
    "<details>\n",
    "  <summary outline=\"1pt\">🆘 Что-то не получается? Нажмите здесь, чтобы посмотреть возможное решение</summary>\n",
    "\n",
    "```python\n",
    "def score(x1, x2):\n",
    "    \"\"\"Возвращает евклидово расстояние между двумя тензорами\"\"\"\n",
    "    # --- Вставьте свой код сюда ---\n",
    "    rmse = np.sqrt(np.mean(np.square(x1 - x2)))\n",
    "    # --- Конец кастомного кода ---\n",
    "```  \n",
    "</details>"
   ]
  },
  {
   "cell_type": "markdown",
   "metadata": {},
   "source": [
    "Посмотрим, какая будет оценка между двумя только что выбранными изображениями.    \n",
    "Если оценивать, насколько похожи изображения (функция перестановочная), мы измеряем оценку между двумя соответствующими встраиваниями."
   ]
  },
  {
   "cell_type": "markdown",
   "metadata": {},
   "source": [
    "<div class=\"alert alert-heading alert-danger\" style=\"background-color: white; border: 2px solid; border-radius: 5px; color: #000; border-color:#AAA; padding: 10px\">\n",
    "<b>📝 Примечание </b>\n",
    "\n",
    "Посколько используемый признак оценки является формой <b>расстояния </b> между двумя изображениями, чем он меньше, тем лучше.    \n",
    "Чем ниже оценка, тем ближе изображения!\n",
    "\n",
    "</div>"
   ]
  },
  {
   "cell_type": "code",
   "execution_count": 55,
   "metadata": {},
   "outputs": [],
   "source": [
    "# Создадим экземпляр набора данных\n",
    "dataset = cbir.Dataset()"
   ]
  },
  {
   "cell_type": "code",
   "execution_count": 56,
   "metadata": {},
   "outputs": [],
   "source": [
    "# Создадим словарное дерево\n",
    "voc = cbir.encoders.VocabularyTree(n_branches=4, depth=4, descriptor=orb)"
   ]
  },
  {
   "cell_type": "code",
   "execution_count": null,
   "metadata": {},
   "outputs": [],
   "source": [
    "# Теперь извлечем признаки\n",
    "# На личном компьютере это занимает около 10 минут. \n",
    "# Мы уже сделали это для вас и сохранили все признаки в `data/features_orb.hdf5`. Если вы хотите все сделать \n",
    "# с нкля, просто удалите или переименуйте этот файл.\n",
    "features = voc.extract_features(dataset)"
   ]
  },
  {
   "cell_type": "code",
   "execution_count": null,
   "metadata": {},
   "outputs": [],
   "source": [
    "# Теперь мы можем построить дерево, используя извлеченные признаки\n",
    "voc.fit(features)"
   ]
  },
  {
   "cell_type": "code",
   "execution_count": null,
   "metadata": {},
   "outputs": [],
   "source": [
    "# Извлечем встраивания для двух следующих изображений\n",
    "image_id_1 = \"104000\"\n",
    "image_id_2 = \"104002\"\n",
    "\n",
    "# прочитаем изображения\n",
    "image1 = dataset.read_image(image_id_1)\n",
    "image2 = dataset.read_image(image_id_2)"
   ]
  },
  {
   "cell_type": "code",
   "execution_count": null,
   "metadata": {},
   "outputs": [],
   "source": [
    "# построение изображения 1\n",
    "dataset.show_image(image1)"
   ]
  },
  {
   "cell_type": "code",
   "execution_count": null,
   "metadata": {},
   "outputs": [],
   "source": [
    "# построение изображения 2\n",
    "dataset.show_image(image2)"
   ]
  },
  {
   "cell_type": "code",
   "execution_count": null,
   "metadata": {},
   "outputs": [],
   "source": [
    "# получим их встраивания\n",
    "em_1 = voc.embedding(image1)\n",
    "em_2 = voc.embedding(image2)\n",
    "\n",
    "fig, ax = plt.subplots(2, 1, figsize=(20, 5))\n",
    "ax[0].bar(np.arange(len(em_1)), em_1)\n",
    "ax[0].set_title(\"Image 1 TF-IDF\")\n",
    "ax[1].bar(np.arange(len(em_2)), em_2)\n",
    "_ = ax[1].set_title(\"Image 2 TF-IDF\")\n",
    "plt.tight_layout()"
   ]
  },
  {
   "cell_type": "code",
   "execution_count": 109,
   "metadata": {},
   "outputs": [],
   "source": [
    "s = score(em_1, em_2)\n",
    "print(\"The score is:\", s)"
   ]
  },
  {
   "cell_type": "markdown",
   "metadata": {},
   "source": [
    "<br>\n",
    "\n",
    "### 4.2 Поиск изображения в базе данных\n",
    "---\n",
    "Здесь мы объединим все окнцепции, показанные выше, чтобы построить крупномасштабную CBIR-систему.    \n",
    "Помните, что в прошлом упражнении мы создали кодер:   \n",
    "эта функция берет изображение и возвращает его <b>представление</b>, встраивая ключевую информацию о его содержимом так, чтобы ее можно было использовать для поиска похожих изображений.\n",
    "\n",
    "В следующем управжнении мы используем этот кодер, чтобы проиндексировать базу данных для поиска в ней."
   ]
  },
  {
   "cell_type": "code",
   "execution_count": null,
   "metadata": {},
   "outputs": [],
   "source": [
    "# у нас есть обученный кодер, поэтому давайте создадим базу данных для поиска\n",
    "db = cbir.Database(dataset, encoder=voc)"
   ]
  },
  {
   "cell_type": "code",
   "execution_count": null,
   "metadata": {},
   "outputs": [],
   "source": [
    "# Можно проиндексировать все изображения\n",
    "# можно использовать db.index() для одновременной индексации всех изображений\n",
    "db.index()\n",
    "\n",
    "# сохраните базу данных на диск на потом\n",
    "db.save()"
   ]
  },
  {
   "cell_type": "code",
   "execution_count": null,
   "metadata": {},
   "outputs": [],
   "source": [
    "query = \"104000.jpg\"\n",
    "scores = db.retrieve(query)\n",
    "db.show_results(query, scores, figsize=(30, 10))"
   ]
  },
  {
   "cell_type": "code",
   "execution_count": null,
   "metadata": {},
   "outputs": [],
   "source": [
    "import random\n",
    "\n",
    "query = random.choice(dataset)\n",
    "scores = db.retrieve(query)\n",
    "db.show_results(query, scores, figsize=(20, 10))"
   ]
  },
  {
   "cell_type": "markdown",
   "metadata": {},
   "source": [
    "<br>\n",
    "\n",
    "## **[Дополнительно] Глава 5. Кодирование изображений с помощью глубинных сверточных нейронных сетей**\n",
    "---\n",
    "\n",
    "Упражнения в этом разделе необязательны. Они дают более широкую картину того, как строить эффективное представление изображения.\n",
    "Мы покажем, как использовать обученный классификатор изображений для представления признаков изображения\n",
    "- 4.1 Использование вероятностей выхода обученной сети AlexNet для получения встраивания изображения\n",
    "- 4.2 Использование предпоследнего слоя сверточной нейронной сети в качестве признаков для распространения дерева"
   ]
  },
  {
   "cell_type": "markdown",
   "metadata": {},
   "source": [
    "**5.1 Использование вероятностей выход обученной сети AlexNet**\n",
    "\n",
    "В этом дополнительном упражнении мы заменим сопоставление `encode` на вероятности выхода сети *[AlexNet](https://papers.nips.cc/paper/4824-imagenet-classification-with-deep-convolutional-neural-networks.pdf)*"
   ]
  },
  {
   "cell_type": "code",
   "execution_count": null,
   "metadata": {},
   "outputs": [],
   "source": [
    "# скачаем обученную версию сети AlexNet с torchvision\n",
    "import torch\n",
    "import torchvision\n",
    "import matplotlib.pyplot as plt\n",
    "import cbir\n",
    "import numpy as np"
   ]
  },
  {
   "cell_type": "code",
   "execution_count": null,
   "metadata": {},
   "outputs": [],
   "source": [
    "dataset = cbir.Dataset().subset[0:100]\n",
    "db_ax_enc = cbir.Database(dataset, encoder=cbir.encoders.AlexNet())"
   ]
  },
  {
   "cell_type": "code",
   "execution_count": null,
   "metadata": {},
   "outputs": [],
   "source": [
    "db_ax_enc.index()"
   ]
  },
  {
   "cell_type": "code",
   "execution_count": null,
   "metadata": {},
   "outputs": [],
   "source": [
    "image_path = \"104000.jpg\"\n",
    "embedding_ax_enc = db_ax_enc.embedding(image_path)\n",
    "\n",
    "plt.figure(figsize=(20, 5))\n",
    "plt.bar(np.arange(len(embedding_ax_enc)), embedding_ax_enc)"
   ]
  },
  {
   "cell_type": "code",
   "execution_count": null,
   "metadata": {},
   "outputs": [],
   "source": [
    "import random\n",
    "\n",
    "query = random.choice(db_ax_enc.dataset.image_paths)\n",
    "scores = db_ax_enc.retrieve(query)\n",
    "db_ax_enc.show_results(query, scores, figsize=(20, 10))"
   ]
  },
  {
   "cell_type": "markdown",
   "metadata": {},
   "source": [
    " "
   ]
  },
  {
   "cell_type": "markdown",
   "metadata": {},
   "source": [
    "**5.2 Использование функций DCNN**\n",
    "\n",
    "Мы можем сравнить результаты выше, где мы используем сеть AlexNet в качестве кодера с методом ДЕСКРИПТОР+СЛОВАРЬ, где -- вместо использования сети AlexNet в качестве кодера -- дескрипторы берутся из промежуточного слоя сети AlexNet. Они считаются векторами признаков (несколько для каждого изображения), которые затем кодируются с помощью словарного дерева."
   ]
  },
  {
   "cell_type": "code",
   "execution_count": null,
   "metadata": {},
   "outputs": [],
   "source": [
    "# создадим словарное дерево, используя дескрипторы, сгенерированные нейронной сетью\n",
    "voc_nn = cbir.encoders.VocabularyTree(n_branches=4, depth=4, descriptor=cbir.descriptors.AlexNet())"
   ]
  },
  {
   "cell_type": "code",
   "execution_count": null,
   "metadata": {},
   "outputs": [],
   "source": [
    "# Теперь извлечем признаки, используя сеть AlexNet\n",
    "features = voc_nn.extract_features(dataset)"
   ]
  },
  {
   "cell_type": "code",
   "execution_count": null,
   "metadata": {},
   "outputs": [],
   "source": [
    "# Теперь мы можем построить дерево, используя извлеченные функции\n",
    "voc_nn.fit(features)"
   ]
  },
  {
   "cell_type": "code",
   "execution_count": null,
   "metadata": {},
   "outputs": [],
   "source": [
    "# Создаем модель как обычно\n",
    "db_nn = cbir.Database(dataset, encoder=voc_nn)"
   ]
  },
  {
   "cell_type": "code",
   "execution_count": null,
   "metadata": {},
   "outputs": [],
   "source": [
    "# индексируем базу данных,\n",
    "# то есть рассчитываем встраивания для всех изображений и сохраняем их в базе данных db_nn._database\n",
    "db_nn.index()"
   ]
  },
  {
   "cell_type": "code",
   "execution_count": null,
   "metadata": {},
   "outputs": [],
   "source": [
    "scores = db_nn.retrieve(query)\n",
    "db_nn.show_results(query, scores, figsize=(20, 10))"
   ]
  },
  {
   "cell_type": "code",
   "execution_count": null,
   "metadata": {},
   "outputs": [],
   "source": []
  }
 ],
 "metadata": {
  "kernelspec": {
   "display_name": "Python 3 (ipykernel)",
   "language": "python",
   "name": "python3"
  },
  "language_info": {
   "codemirror_mode": {
    "name": "ipython",
    "version": 3
   },
   "file_extension": ".py",
   "mimetype": "text/x-python",
   "name": "python",
   "nbconvert_exporter": "python",
   "pygments_lexer": "ipython3",
   "version": "3.7.7"
  }
 },
 "nbformat": 4,
 "nbformat_minor": 4
}
