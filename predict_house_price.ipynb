{
 "cells": [
  {
   "cell_type": "markdown",
   "metadata": {},
   "source": [
    "# Предсказание цен на недвижимость\n",
    "\n",
    "**Бизнес-постановка задачи** \n",
    "\n",
    "Компании по продаже недвижимости оценивают ее стоимость, используя методы машинного обучения. \n",
    "Задача оценки цены на недвижимость также может быть нужна для:\n",
    "* выявления аномально низких цен на недвижимость,\n",
    "* оценки макроэкономических показателей, \n",
    "* уточнения ставок по ипотеке"
   ]
  },
  {
   "cell_type": "markdown",
   "metadata": {},
   "source": [
    "**Постановка задачи анализа данных** \n",
    "\n",
    "Целью данной задачи является прогнозирование стоимости домов в округе Кинг (штат Вашингтон, США) с помощью построения регрессионных моделей и их анализа. Набор данных состоит из цен на дома в округе Кинг, проданных в период с мая 2014 года по май 2015 года. Данные опубликованы в открытом доступе на платформе Kaggle. "
   ]
  },
  {
   "cell_type": "markdown",
   "metadata": {},
   "source": [
    "Данные с сайта renthub.com по стоимости квартир для аренды в Сиэтле:"
   ]
  },
  {
   "cell_type": "markdown",
   "metadata": {},
   "source": [
    "<img src=\"price_Seattle.jpg\" width=\"300\" height=\"350\" >"
   ]
  },
  {
   "cell_type": "markdown",
   "metadata": {},
   "source": [
    "**Обзор доступных данных**\n",
    "\n",
    "В выборке 21613 наблюдений и 21 переменная. \n",
    "Таким образом, про каждый из 21613 объектов недвижимости мы знаем значения 21 их характеристики (число спален, оценка состояния риелтором, наличие вида на воду и т.п.)\n",
    "\n",
    "Выборка была разбита на две части для обучения и для тестирования модели. Данные на обучение и тест обычно делят случайно и равномерно: нужно чтобы и обучающая, и тестовая выборка были похожие на те данные, на которых модель будет использоваться в боевых условиях. \n",
    "\n",
    "Более сложные разбиения могут использоваться если в данных есть временная компонента - например, мы строим скоринговую модель и для теста откладываем данные за последние несколько месяцев, а всю остальную выборку используем для обучения. Такое разбиение имитирует реальную работу модели: мы можем обучаться только на данных прошлых кредитов, а работать модель уже будет на данных из будущего. \n",
    "\n",
    "Доли общей выборки для обучения и тестирования обычно 70% и 30% соотвественно. Любые разумные числа подходят, если для обучения используется достаточно много данных (обычно больше 50%), но и для тестирования что-то остается (10% и больше).\n"
   ]
  },
  {
   "cell_type": "markdown",
   "metadata": {},
   "source": [
    "Данные содержат два типа переменных:\n",
    "\n",
    "* Целевая: **Целевая. Цена**\n",
    "* Остальные переменные: **20 переменных, могут использоваться для прогноза целевой переменной.**"
   ]
  },
  {
   "cell_type": "markdown",
   "metadata": {},
   "source": [
    "## План анализа данных (data mining):\n",
    "\n",
    "  1. Загрузить данные для обучения\n",
    "  2. Обработать данные перед обучением модели\n",
    "  3. Обучить модель на обучающей выборке\n",
    "  4. Загрузить и предобработать данные для тестирования\n",
    "  5. Провалидировать модель на тестовой выборке"
   ]
  },
  {
   "cell_type": "markdown",
   "metadata": {},
   "source": [
    "## 1. Загрузить данные для обучения"
   ]
  },
  {
   "cell_type": "markdown",
   "metadata": {},
   "source": [
    "**Шаг 1.1. Загружаем библиотеки** "
   ]
  },
  {
   "cell_type": "markdown",
   "metadata": {},
   "source": [
    "Библиотека **warnings** отвечает за то, какие предупреждения (warnings) о работе будут выводиться пользователю. \n",
    "FutureWarning - предупреждения о том, как изменится работа библиотек в будущих версиях.\n",
    "Поэтому такие предупреждения мы будем игнорировать.\n",
    "Чтобы включить режим игнорирования мы отбираем все предупреждения из категории FutureWarning и выбираем для них действия 'ignore'.\n",
    "Это делается вызовом функции simplefilter c задание двух атрибутов: действия action и категории предупреждений category."
   ]
  },
  {
   "cell_type": "code",
   "execution_count": 1,
   "metadata": {},
   "outputs": [],
   "source": [
    "import warnings\n",
    "warnings.simplefilter(action='ignore', category=FutureWarning)"
   ]
  },
  {
   "cell_type": "markdown",
   "metadata": {},
   "source": [
    "Для корректной работы с данными в python требуется загрузить специальную библиотеку\n",
    "**pandas**, программную библиотеку на языке python для обработки и анализа данных. "
   ]
  },
  {
   "cell_type": "code",
   "execution_count": 2,
   "metadata": {},
   "outputs": [],
   "source": [
    "import pandas as pd # загружаем библиотеку и для простоты обращения в коде называем её сокращенно pd"
   ]
  },
  {
   "cell_type": "markdown",
   "metadata": {},
   "source": [
    "Для корректной работы с графиками в python требуется загрузить специальную библиотеку\n",
    "**matplotlib**, программную библиотеку на языке python для визуализации данных двумерной и трехмерной графикой.\n",
    "\n",
    "Графики используются для облегчения интерпретации полученных результатов, а также в качестве иллюстраций в презентациях и отчетах. \n",
    "\n",
    "Оснвные методы для построения:\n",
    "* plot() - графики\n",
    "* semilogy() - график логарифметический\n",
    "* hist() - гистограммы"
   ]
  },
  {
   "cell_type": "code",
   "execution_count": 3,
   "metadata": {},
   "outputs": [],
   "source": [
    "import matplotlib.pyplot as plt # загружаем библиотеку и для простоты обращения в коде называем её сокращенно plt"
   ]
  },
  {
   "cell_type": "markdown",
   "metadata": {},
   "source": [
    "**Шаг 1.2. Загрузим данные**\n",
    "\n",
    "Так как данные в формате xlsx (Excel), мы будем использовать специальную функцию\n",
    "из библиотеки pandas для загрузки таких данных **read_excel**.\n",
    "\n",
    "В функции передаем один атрибут: название таблицы с данными."
   ]
  },
  {
   "cell_type": "code",
   "execution_count": 4,
   "metadata": {},
   "outputs": [],
   "source": [
    "training_data = pd.read_excel('training_data.xlsx') # загружаем таблицу в переменную training_data"
   ]
  },
  {
   "cell_type": "markdown",
   "metadata": {},
   "source": [
    "*Что важно посмотреть после того, как мы загрузили данные?*\n",
    "- проверить, что данные действительно загрузились\n",
    "- посмотреть на данные, чтобы удостовериться, что они правильные: колонки имеют те же названия, что и в таблице и т.д.\n",
    "\n",
    "Для того чтобы это сделать, нужно вызвать от переменной *training_data* метод **head()**, который выводит первые 5 строк таблицы. \n",
    "\n",
    "Для вызова метода объекта необходимо сначала написать *имя объекта*, затем поставить *точку*, затем уже написать *название метода*. Обратите внимание, что в конце обязательно ставить скобочки, потому что метод - это функция и в ней есть аргументы, просто в данном случае мы их не передаем, поэтому оставляем поле пустым"
   ]
  },
  {
   "cell_type": "code",
   "execution_count": 5,
   "metadata": {},
   "outputs": [
    {
     "data": {
      "text/html": [
       "<div>\n",
       "<style scoped>\n",
       "    .dataframe tbody tr th:only-of-type {\n",
       "        vertical-align: middle;\n",
       "    }\n",
       "\n",
       "    .dataframe tbody tr th {\n",
       "        vertical-align: top;\n",
       "    }\n",
       "\n",
       "    .dataframe thead th {\n",
       "        text-align: right;\n",
       "    }\n",
       "</style>\n",
       "<table border=\"1\" class=\"dataframe\">\n",
       "  <thead>\n",
       "    <tr style=\"text-align: right;\">\n",
       "      <th></th>\n",
       "      <th>Целевая.Цена</th>\n",
       "      <th>Спальни</th>\n",
       "      <th>Ванные</th>\n",
       "      <th>Жилая площадь</th>\n",
       "      <th>Общая площадь</th>\n",
       "      <th>Количество этажей</th>\n",
       "      <th>Вид на воду</th>\n",
       "      <th>Просмотрены ранее</th>\n",
       "      <th>Состояние</th>\n",
       "      <th>Оценка риелтора</th>\n",
       "      <th>Площадь без подвала</th>\n",
       "      <th>Площадь подвала</th>\n",
       "      <th>Год постройки</th>\n",
       "      <th>Год реновации</th>\n",
       "      <th>Широта</th>\n",
       "      <th>Долгота</th>\n",
       "    </tr>\n",
       "  </thead>\n",
       "  <tbody>\n",
       "    <tr>\n",
       "      <th>0</th>\n",
       "      <td>830000</td>\n",
       "      <td>5</td>\n",
       "      <td>3.50</td>\n",
       "      <td>3490</td>\n",
       "      <td>21780</td>\n",
       "      <td>2.0</td>\n",
       "      <td>0</td>\n",
       "      <td>0</td>\n",
       "      <td>3</td>\n",
       "      <td>8</td>\n",
       "      <td>3490</td>\n",
       "      <td>0</td>\n",
       "      <td>1996</td>\n",
       "      <td>0</td>\n",
       "      <td>47.6707</td>\n",
       "      <td>-122.144</td>\n",
       "    </tr>\n",
       "    <tr>\n",
       "      <th>1</th>\n",
       "      <td>385000</td>\n",
       "      <td>4</td>\n",
       "      <td>1.75</td>\n",
       "      <td>2360</td>\n",
       "      <td>7620</td>\n",
       "      <td>1.0</td>\n",
       "      <td>0</td>\n",
       "      <td>0</td>\n",
       "      <td>4</td>\n",
       "      <td>7</td>\n",
       "      <td>1180</td>\n",
       "      <td>1180</td>\n",
       "      <td>1955</td>\n",
       "      <td>0</td>\n",
       "      <td>47.5278</td>\n",
       "      <td>-122.345</td>\n",
       "    </tr>\n",
       "    <tr>\n",
       "      <th>2</th>\n",
       "      <td>610000</td>\n",
       "      <td>6</td>\n",
       "      <td>2.75</td>\n",
       "      <td>2040</td>\n",
       "      <td>8560</td>\n",
       "      <td>1.0</td>\n",
       "      <td>0</td>\n",
       "      <td>2</td>\n",
       "      <td>4</td>\n",
       "      <td>7</td>\n",
       "      <td>1100</td>\n",
       "      <td>940</td>\n",
       "      <td>1961</td>\n",
       "      <td>0</td>\n",
       "      <td>47.6160</td>\n",
       "      <td>-122.115</td>\n",
       "    </tr>\n",
       "    <tr>\n",
       "      <th>3</th>\n",
       "      <td>550000</td>\n",
       "      <td>3</td>\n",
       "      <td>1.75</td>\n",
       "      <td>1940</td>\n",
       "      <td>8376</td>\n",
       "      <td>1.0</td>\n",
       "      <td>0</td>\n",
       "      <td>0</td>\n",
       "      <td>4</td>\n",
       "      <td>8</td>\n",
       "      <td>1290</td>\n",
       "      <td>650</td>\n",
       "      <td>1963</td>\n",
       "      <td>0</td>\n",
       "      <td>47.5586</td>\n",
       "      <td>-122.173</td>\n",
       "    </tr>\n",
       "    <tr>\n",
       "      <th>4</th>\n",
       "      <td>1300000</td>\n",
       "      <td>3</td>\n",
       "      <td>2.75</td>\n",
       "      <td>3450</td>\n",
       "      <td>5350</td>\n",
       "      <td>1.5</td>\n",
       "      <td>0</td>\n",
       "      <td>3</td>\n",
       "      <td>4</td>\n",
       "      <td>9</td>\n",
       "      <td>2590</td>\n",
       "      <td>860</td>\n",
       "      <td>1925</td>\n",
       "      <td>0</td>\n",
       "      <td>47.6389</td>\n",
       "      <td>-122.407</td>\n",
       "    </tr>\n",
       "  </tbody>\n",
       "</table>\n",
       "</div>"
      ],
      "text/plain": [
       "   Целевая.Цена  Спальни  Ванные  Жилая площадь  Общая площадь  \\\n",
       "0        830000        5    3.50           3490          21780   \n",
       "1        385000        4    1.75           2360           7620   \n",
       "2        610000        6    2.75           2040           8560   \n",
       "3        550000        3    1.75           1940           8376   \n",
       "4       1300000        3    2.75           3450           5350   \n",
       "\n",
       "   Количество этажей  Вид на воду  Просмотрены ранее  Состояние  \\\n",
       "0                2.0            0                  0          3   \n",
       "1                1.0            0                  0          4   \n",
       "2                1.0            0                  2          4   \n",
       "3                1.0            0                  0          4   \n",
       "4                1.5            0                  3          4   \n",
       "\n",
       "   Оценка риелтора  Площадь без подвала  Площадь подвала  Год постройки  \\\n",
       "0                8                 3490                0           1996   \n",
       "1                7                 1180             1180           1955   \n",
       "2                7                 1100              940           1961   \n",
       "3                8                 1290              650           1963   \n",
       "4                9                 2590              860           1925   \n",
       "\n",
       "   Год реновации   Широта  Долгота  \n",
       "0              0  47.6707 -122.144  \n",
       "1              0  47.5278 -122.345  \n",
       "2              0  47.6160 -122.115  \n",
       "3              0  47.5586 -122.173  \n",
       "4              0  47.6389 -122.407  "
      ]
     },
     "execution_count": 5,
     "metadata": {},
     "output_type": "execute_result"
    }
   ],
   "source": [
    "training_data.head()"
   ]
  },
  {
   "cell_type": "markdown",
   "metadata": {},
   "source": [
    "**Шаг 1.3. Посмотрим на размеры загруженной таблицы**, у которой мы видели только первые 5 строк.\n",
    "\n",
    "Для этого вызываем поле **shape** у нашей переменной *training_data*. Поле вызывается также как метод, но в конце скобки не ставятся, так как для поля не предусмотрена передача аргументов.  "
   ]
  },
  {
   "cell_type": "code",
   "execution_count": 6,
   "metadata": {},
   "outputs": [
    {
     "data": {
      "text/plain": [
       "(15129, 16)"
      ]
     },
     "execution_count": 6,
     "metadata": {},
     "output_type": "execute_result"
    }
   ],
   "source": [
    "training_data.shape"
   ]
  },
  {
   "cell_type": "markdown",
   "metadata": {},
   "source": [
    "*Что означает первое и второе число?*\n",
    "\n",
    "Итак, таблица содержит 15129 строк (объектов) и 16 столбцов (признаков), включая выходной (целевой) признак.\n",
    "Видими, что 15129 меньше 21613, так как мы пока загрузили только часть данных, которую будем использовать для обучения модели.\n",
    "\n",
    "Таблицу проверили, теперь можно приступать к обработке данных."
   ]
  },
  {
   "cell_type": "markdown",
   "metadata": {},
   "source": [
    "# 2. Обработать данные перед обучением модели"
   ]
  },
  {
   "cell_type": "markdown",
   "metadata": {},
   "source": [
    "**Шаг 2.1. Проверяем данные на наличие пропусков и типов переменных**\n",
    "\n",
    "Начнем с проверки общей информации о данных.\n",
    "Для того чтобы это сделать, нужно обратиться вызвать у переменной *training_data* метод **info()**.\n",
    "\n",
    "Напомним, что в конце необходимо поставить скобочки."
   ]
  },
  {
   "cell_type": "code",
   "execution_count": 7,
   "metadata": {},
   "outputs": [
    {
     "name": "stdout",
     "output_type": "stream",
     "text": [
      "<class 'pandas.core.frame.DataFrame'>\n",
      "RangeIndex: 15129 entries, 0 to 15128\n",
      "Data columns (total 16 columns):\n",
      "Целевая.Цена           15129 non-null int64\n",
      "Спальни                15129 non-null int64\n",
      "Ванные                 15129 non-null float64\n",
      "Жилая площадь          15129 non-null int64\n",
      "Общая площадь          15129 non-null int64\n",
      "Количество этажей      15129 non-null float64\n",
      "Вид на воду            15129 non-null int64\n",
      "Просмотрены ранее      15129 non-null int64\n",
      "Состояние              15129 non-null int64\n",
      "Оценка риелтора        15129 non-null int64\n",
      "Площадь без подвала    15129 non-null int64\n",
      "Площадь подвала        15129 non-null int64\n",
      "Год постройки          15129 non-null int64\n",
      "Год реновации          15129 non-null int64\n",
      "Широта                 15129 non-null float64\n",
      "Долгота                15129 non-null float64\n",
      "dtypes: float64(4), int64(12)\n",
      "memory usage: 1.8 MB\n"
     ]
    }
   ],
   "source": [
    "training_data.info()"
   ]
  },
  {
   "cell_type": "markdown",
   "metadata": {},
   "source": [
    "Анализируем результата выполнения команды:\n",
    "\n",
    "* 15129 строк (entries)\n",
    "* 16 столбцов (Data columns)\n",
    "\n",
    "В данных присутствует всего два типа dtypes:\n",
    "* int64 - целое число  (12 столбцов)\n",
    "* float64 - дробное число (4 столбца)\n",
    "\n",
    "Цифры в каждой строчке обозначают количество заполненных (*non-null*) значений. Так как эти цифры в каждой строчке совпадают с числом строк (15129), то в данных нет пропусков и можно двигаться дальше. "
   ]
  },
  {
   "cell_type": "markdown",
   "metadata": {},
   "source": [
    "**Шаг 2.2. Работаем с целевой переменной**\n",
    "\n",
    "*Какая переменная целевая?*\n",
    "\n",
    "В данном случае по условию задачи мы должны прогнозировать стоимость, поэтому целевая переменная - это цена. "
   ]
  },
  {
   "cell_type": "code",
   "execution_count": 8,
   "metadata": {},
   "outputs": [],
   "source": [
    "target_variable_name = 'Целевая.Цена'"
   ]
  },
  {
   "cell_type": "markdown",
   "metadata": {},
   "source": [
    "Нам нужно выделить в отдельную переменную *training_values* столбец из нашей таблицы, который соответствует определенной выше целевой переменной. Для этого мы у таблицы *training_data* в квадратных скобках указываем имя нужного столбца. В нашем случае это имя записано в переменной *target_variable_name*. "
   ]
  },
  {
   "cell_type": "code",
   "execution_count": 9,
   "metadata": {},
   "outputs": [],
   "source": [
    "training_values = training_data[target_variable_name]"
   ]
  },
  {
   "cell_type": "markdown",
   "metadata": {},
   "source": [
    "Отделим входные переменные от выходной (целевой), чтобы можно было построить модель предсказания целевой переменной по входным. \n",
    "Для это нужно у переменной *training_data* вызвать метод **drop()**. Результат мы записываем в новую переменную *training_points*. После выполнения запроса *training_points* будет содержать исходную таблицу без целевого столбца. \n",
    "\n",
    "Обратите внимание, что в данном случае мы передаем два аргумента:\n",
    "    1. target_variable_name - название столбца цены, который мы ранее записали в эту переменную и теперь хотим удалить из training_data\n",
    "    2. axis=1 - означает, что мы удаляем столбец, а в случае axis=0 - означает, что мы удаляем строку"
   ]
  },
  {
   "cell_type": "code",
   "execution_count": 10,
   "metadata": {},
   "outputs": [],
   "source": [
    "training_points = training_data.drop(target_variable_name, axis=1)"
   ]
  },
  {
   "cell_type": "markdown",
   "metadata": {},
   "source": [
    "Можно посмотреть результаты этих действий, вызвав метод **head()** и поле **shape**, которыми мы пользовались ранее, но сейчас нужно вызывать их от новой переменной *training_points*."
   ]
  },
  {
   "cell_type": "code",
   "execution_count": 11,
   "metadata": {},
   "outputs": [
    {
     "data": {
      "text/html": [
       "<div>\n",
       "<style scoped>\n",
       "    .dataframe tbody tr th:only-of-type {\n",
       "        vertical-align: middle;\n",
       "    }\n",
       "\n",
       "    .dataframe tbody tr th {\n",
       "        vertical-align: top;\n",
       "    }\n",
       "\n",
       "    .dataframe thead th {\n",
       "        text-align: right;\n",
       "    }\n",
       "</style>\n",
       "<table border=\"1\" class=\"dataframe\">\n",
       "  <thead>\n",
       "    <tr style=\"text-align: right;\">\n",
       "      <th></th>\n",
       "      <th>Спальни</th>\n",
       "      <th>Ванные</th>\n",
       "      <th>Жилая площадь</th>\n",
       "      <th>Общая площадь</th>\n",
       "      <th>Количество этажей</th>\n",
       "      <th>Вид на воду</th>\n",
       "      <th>Просмотрены ранее</th>\n",
       "      <th>Состояние</th>\n",
       "      <th>Оценка риелтора</th>\n",
       "      <th>Площадь без подвала</th>\n",
       "      <th>Площадь подвала</th>\n",
       "      <th>Год постройки</th>\n",
       "      <th>Год реновации</th>\n",
       "      <th>Широта</th>\n",
       "      <th>Долгота</th>\n",
       "    </tr>\n",
       "  </thead>\n",
       "  <tbody>\n",
       "    <tr>\n",
       "      <th>0</th>\n",
       "      <td>5</td>\n",
       "      <td>3.50</td>\n",
       "      <td>3490</td>\n",
       "      <td>21780</td>\n",
       "      <td>2.0</td>\n",
       "      <td>0</td>\n",
       "      <td>0</td>\n",
       "      <td>3</td>\n",
       "      <td>8</td>\n",
       "      <td>3490</td>\n",
       "      <td>0</td>\n",
       "      <td>1996</td>\n",
       "      <td>0</td>\n",
       "      <td>47.6707</td>\n",
       "      <td>-122.144</td>\n",
       "    </tr>\n",
       "    <tr>\n",
       "      <th>1</th>\n",
       "      <td>4</td>\n",
       "      <td>1.75</td>\n",
       "      <td>2360</td>\n",
       "      <td>7620</td>\n",
       "      <td>1.0</td>\n",
       "      <td>0</td>\n",
       "      <td>0</td>\n",
       "      <td>4</td>\n",
       "      <td>7</td>\n",
       "      <td>1180</td>\n",
       "      <td>1180</td>\n",
       "      <td>1955</td>\n",
       "      <td>0</td>\n",
       "      <td>47.5278</td>\n",
       "      <td>-122.345</td>\n",
       "    </tr>\n",
       "    <tr>\n",
       "      <th>2</th>\n",
       "      <td>6</td>\n",
       "      <td>2.75</td>\n",
       "      <td>2040</td>\n",
       "      <td>8560</td>\n",
       "      <td>1.0</td>\n",
       "      <td>0</td>\n",
       "      <td>2</td>\n",
       "      <td>4</td>\n",
       "      <td>7</td>\n",
       "      <td>1100</td>\n",
       "      <td>940</td>\n",
       "      <td>1961</td>\n",
       "      <td>0</td>\n",
       "      <td>47.6160</td>\n",
       "      <td>-122.115</td>\n",
       "    </tr>\n",
       "    <tr>\n",
       "      <th>3</th>\n",
       "      <td>3</td>\n",
       "      <td>1.75</td>\n",
       "      <td>1940</td>\n",
       "      <td>8376</td>\n",
       "      <td>1.0</td>\n",
       "      <td>0</td>\n",
       "      <td>0</td>\n",
       "      <td>4</td>\n",
       "      <td>8</td>\n",
       "      <td>1290</td>\n",
       "      <td>650</td>\n",
       "      <td>1963</td>\n",
       "      <td>0</td>\n",
       "      <td>47.5586</td>\n",
       "      <td>-122.173</td>\n",
       "    </tr>\n",
       "    <tr>\n",
       "      <th>4</th>\n",
       "      <td>3</td>\n",
       "      <td>2.75</td>\n",
       "      <td>3450</td>\n",
       "      <td>5350</td>\n",
       "      <td>1.5</td>\n",
       "      <td>0</td>\n",
       "      <td>3</td>\n",
       "      <td>4</td>\n",
       "      <td>9</td>\n",
       "      <td>2590</td>\n",
       "      <td>860</td>\n",
       "      <td>1925</td>\n",
       "      <td>0</td>\n",
       "      <td>47.6389</td>\n",
       "      <td>-122.407</td>\n",
       "    </tr>\n",
       "  </tbody>\n",
       "</table>\n",
       "</div>"
      ],
      "text/plain": [
       "   Спальни  Ванные  Жилая площадь  Общая площадь  Количество этажей  \\\n",
       "0        5    3.50           3490          21780                2.0   \n",
       "1        4    1.75           2360           7620                1.0   \n",
       "2        6    2.75           2040           8560                1.0   \n",
       "3        3    1.75           1940           8376                1.0   \n",
       "4        3    2.75           3450           5350                1.5   \n",
       "\n",
       "   Вид на воду  Просмотрены ранее  Состояние  Оценка риелтора  \\\n",
       "0            0                  0          3                8   \n",
       "1            0                  0          4                7   \n",
       "2            0                  2          4                7   \n",
       "3            0                  0          4                8   \n",
       "4            0                  3          4                9   \n",
       "\n",
       "   Площадь без подвала  Площадь подвала  Год постройки  Год реновации  \\\n",
       "0                 3490                0           1996              0   \n",
       "1                 1180             1180           1955              0   \n",
       "2                 1100              940           1961              0   \n",
       "3                 1290              650           1963              0   \n",
       "4                 2590              860           1925              0   \n",
       "\n",
       "    Широта  Долгота  \n",
       "0  47.6707 -122.144  \n",
       "1  47.5278 -122.345  \n",
       "2  47.6160 -122.115  \n",
       "3  47.5586 -122.173  \n",
       "4  47.6389 -122.407  "
      ]
     },
     "execution_count": 11,
     "metadata": {},
     "output_type": "execute_result"
    }
   ],
   "source": [
    "training_points.head()"
   ]
  },
  {
   "cell_type": "code",
   "execution_count": 12,
   "metadata": {},
   "outputs": [
    {
     "data": {
      "text/plain": [
       "(15129, 15)"
      ]
     },
     "execution_count": 12,
     "metadata": {},
     "output_type": "execute_result"
    }
   ],
   "source": [
    "training_points.shape"
   ]
  },
  {
   "cell_type": "markdown",
   "metadata": {},
   "source": [
    "Видно, что столбца действительно нет, а количество строк не изменилось. Данные в 5 первых строках такие же, как были ранее."
   ]
  },
  {
   "cell_type": "markdown",
   "metadata": {},
   "source": [
    "##   3. Обучить модель на обучающей выборке"
   ]
  },
  {
   "cell_type": "markdown",
   "metadata": {},
   "source": [
    "**Шаг 3.1. Выбираем метод, который будем использовать**\n",
    "\n",
    "Проще всего начать с простых методов. \n",
    "Мы воспользуемся двумя методами для построения моделей и сравним их между собой:\n",
    "* Линейная регрессия *linear regression*\n",
    "* Лес решающих деревьев *random forest*\n",
    "\n",
    "На выбор метода для построения модели влияет набор признаков и размер выборки. А также понимание того, какая связь между входными переменными и целевой должна быть. Но часто решение принимается исходя из того, какая модель сработала лучше."
   ]
  },
  {
   "cell_type": "markdown",
   "metadata": {},
   "source": [
    "Для корректной работы с методами построения моделей в python требуется загрузить специальную библиотеку\n",
    "**sklearn**, программную библиотеку на языке python для для машинного обучения и анализа данных.\n",
    "\n",
    "На самом деле всю библиотеку загружать даже не нужно, нам достаточно импортировать два модуля из этой библиотеки:\n",
    " * *linear_model* - тут находятся все линейные модели, в том числе Линейная регрессия\n",
    " * *ensemble* - тут находятся модели на основе ансамблей, в том числе Лес решающих деревьев"
   ]
  },
  {
   "cell_type": "code",
   "execution_count": 13,
   "metadata": {},
   "outputs": [
    {
     "name": "stderr",
     "output_type": "stream",
     "text": [
      "C:\\Users\\Dmitry\\Anaconda3\\lib\\site-packages\\sklearn\\ensemble\\weight_boosting.py:29: DeprecationWarning: numpy.core.umath_tests is an internal NumPy module and should not be imported. It will be removed in a future NumPy release.\n",
      "  from numpy.core.umath_tests import inner1d\n"
     ]
    }
   ],
   "source": [
    "from sklearn import linear_model, ensemble"
   ]
  },
  {
   "cell_type": "markdown",
   "metadata": {},
   "source": [
    "Прежде чем начать обучение моделей, нужно создать их прототипы. \n",
    "Чтобы создать прототип модели линейной регресии, пишем имя модуля 'linear_model', затем точку, затем название модели.\n",
    "\n",
    "Получается такой код:\n",
    "\n",
    "```python\n",
    "linear_regression_model = linear_model.LinearRegression()\n",
    "linear_regression_model\n",
    "```\n",
    "\n",
    "Результат выполнения должен быть следующим:\n",
    "\n",
    "```python\n",
    "LinearRegression(copy_X=True, fit_intercept=True, n_jobs=1, normalize=False)\n",
    "```"
   ]
  },
  {
   "cell_type": "code",
   "execution_count": 14,
   "metadata": {},
   "outputs": [],
   "source": [
    "linear_regression_model = linear_model.LinearRegression() # создаем прототип модели"
   ]
  },
  {
   "cell_type": "code",
   "execution_count": 15,
   "metadata": {},
   "outputs": [
    {
     "data": {
      "text/plain": [
       "LinearRegression(copy_X=True, fit_intercept=True, n_jobs=1, normalize=False)"
      ]
     },
     "execution_count": 15,
     "metadata": {},
     "output_type": "execute_result"
    }
   ],
   "source": [
    "linear_regression_model # смотрим, что получилось"
   ]
  },
  {
   "cell_type": "markdown",
   "metadata": {},
   "source": [
    "Давайте разберемся что значат эти параметры.\n",
    "\n",
    "**copy_X : boolean, optional, default True**\n",
    "Если True, X будет скопирован; или будет перезаписан.\n",
    "\n",
    "**fit_intercept : boolean, optional, default True**\n",
    "следует ли рассчитывать пересечение для этой модели. Если установлено значение False, то пересечение не будет использоваться в расчетах (например, ожидается, что данные уже центрированы).\n",
    "\n",
    "**normalize : boolean, optional, default False**\n",
    "Этот параметр игнорируется, если для fit_intercept задано значение False. Если True, X будут нормализованы до регрессии путем вычитания среднего значения и деления на норму. Если вы хотите стандартизировать, используйте sklearn.preprocessing.StandardScaler, прежде чем вызывать fit с помощью normalize = False.\n",
    "\n",
    "**n_jobs : int or None, optional (default=None)**\n",
    "Количество заданий, используемых для расчета. Это обеспечит ускорение только для n_targets> 1. None означает 1, если только в контексте joblib.parallel_backend. -1 означает использование всех процессоров. \n",
    "\n",
    "Больше информации о параметрах: https://scikit-learn.org/stable/modules/generated/sklearn.linear_model.LinearRegression.html"
   ]
  },
  {
   "cell_type": "markdown",
   "metadata": {},
   "source": [
    "Чтобы создать прототип модели случайного леса, пишем имя модуля ensemble, затем точку, затем название модели. \n",
    "\n",
    "Получается такой код:\n",
    "\n",
    "```python\n",
    "random_forest_model = ensemble.RandomForestRegressor()\n",
    "random_forest_model\n",
    "```\n",
    "Результат выполнения должен быть следующим:\n",
    "    \n",
    "```python\n",
    "RandomForestRegressor(bootstrap=True, criterion='mse', max_depth=None,\n",
    "           max_features='auto', max_leaf_nodes=None,\n",
    "           min_impurity_decrease=0.0, min_impurity_split=None,\n",
    "           min_samples_leaf=1, min_samples_split=2,\n",
    "           min_weight_fraction_leaf=0.0, n_estimators=10, n_jobs=1,\n",
    "           oob_score=False, random_state=None, verbose=0, warm_start=False)\n",
    "```"
   ]
  },
  {
   "cell_type": "code",
   "execution_count": 16,
   "metadata": {},
   "outputs": [
    {
     "data": {
      "text/plain": [
       "RandomForestRegressor(bootstrap=True, criterion='mse', max_depth=None,\n",
       "           max_features='auto', max_leaf_nodes=None,\n",
       "           min_impurity_decrease=0.0, min_impurity_split=None,\n",
       "           min_samples_leaf=1, min_samples_split=2,\n",
       "           min_weight_fraction_leaf=0.0, n_estimators=10, n_jobs=1,\n",
       "           oob_score=False, random_state=None, verbose=0, warm_start=False)"
      ]
     },
     "execution_count": 16,
     "metadata": {},
     "output_type": "execute_result"
    }
   ],
   "source": [
    "random_forest_model = ensemble.RandomForestRegressor()\n",
    "random_forest_model"
   ]
  },
  {
   "cell_type": "markdown",
   "metadata": {},
   "source": [
    "У модели на основе случайного леса больше параметров. Рассмотрим наиболее важные:\n",
    "* параметр **n_estimators** определяет, сколько деревьев в лесу,\n",
    "* в параметре **max_depth** устанавливается, какая максимальная глубина у дерева,\n",
    "* в параметре **min_samples_leaf** задается, какое максимальное число объектов может попасть в лист дерева.\n",
    "\n",
    "Больше информации о параметрах: https://scikit-learn.org/stable/modules/generated/sklearn.ensemble.RandomForestClassifier.html"
   ]
  },
  {
   "cell_type": "markdown",
   "metadata": {},
   "source": [
    "Так как у модели на основе случайного решающего леса больше параметров, такая модель обычно обучается медленнее.\n",
    "Кроме этого, на время обучения влияют значения параметров модели. Например, чем больше деревьев в лесе - тем дольше модель будет учиться."
   ]
  },
  {
   "cell_type": "markdown",
   "metadata": {},
   "source": [
    "**Шаг 3.2. Обучить модель**\n",
    "\n",
    "Теперь, когда мы создали прототипы обеих моделей, можем их обучить с помощью обучающей выборки. \n",
    "\n",
    "Для этого вызываем метод **fit()** у каждой модели и передаем ему на вход два аргумента: \n",
    "таблицу входных признаков и столбец значений целевой переменной - (training_points, training_values)"
   ]
  },
  {
   "cell_type": "code",
   "execution_count": 17,
   "metadata": {},
   "outputs": [
    {
     "data": {
      "text/plain": [
       "LinearRegression(copy_X=True, fit_intercept=True, n_jobs=1, normalize=False)"
      ]
     },
     "execution_count": 17,
     "metadata": {},
     "output_type": "execute_result"
    }
   ],
   "source": [
    "linear_regression_model.fit(training_points, training_values)"
   ]
  },
  {
   "cell_type": "markdown",
   "metadata": {},
   "source": [
    "Делаем тоже самое для модели решающего леса."
   ]
  },
  {
   "cell_type": "code",
   "execution_count": 18,
   "metadata": {},
   "outputs": [
    {
     "data": {
      "text/plain": [
       "RandomForestRegressor(bootstrap=True, criterion='mse', max_depth=None,\n",
       "           max_features='auto', max_leaf_nodes=None,\n",
       "           min_impurity_decrease=0.0, min_impurity_split=None,\n",
       "           min_samples_leaf=1, min_samples_split=2,\n",
       "           min_weight_fraction_leaf=0.0, n_estimators=10, n_jobs=1,\n",
       "           oob_score=False, random_state=None, verbose=0, warm_start=False)"
      ]
     },
     "execution_count": 18,
     "metadata": {},
     "output_type": "execute_result"
    }
   ],
   "source": [
    "random_forest_model.fit(training_points, training_values)"
   ]
  },
  {
   "cell_type": "markdown",
   "metadata": {},
   "source": [
    "* Для двух разных моделей в sklearn методы для обучения модели не отличаются.\n",
    "* Мы получили две обученные модели. \n",
    "* Теперь необходимо провалидировать модели на новых тестовых данных. "
   ]
  },
  {
   "cell_type": "markdown",
   "metadata": {},
   "source": [
    "## 4. Загрузить и предобработать данные для тестирования"
   ]
  },
  {
   "cell_type": "markdown",
   "metadata": {},
   "source": [
    "**Шаг 4.1. Загрузим и проанализируем тестовые данные.**\n",
    "\n",
    "Так как данные в формате xlsx (Excel), мы будем использовать специальную функцию\n",
    "из библиотеки pandas для загрузки таких данных **read_excel**.\n",
    "\n",
    "В функции передаем один атрибут: название файла, в котором находится таблица с данными."
   ]
  },
  {
   "cell_type": "code",
   "execution_count": 19,
   "metadata": {},
   "outputs": [],
   "source": [
    "test_data = pd.read_excel('test_data.xlsx')"
   ]
  },
  {
   "cell_type": "markdown",
   "metadata": {},
   "source": [
    "*Что важно посмотреть, после того, как мы загрузили данные?*\n",
    "\n",
    "- проверить, что данные действительно загрузились\n",
    "- посмотреть на данные, чтобы удостовериться, что они правильные: колонки имеют те же названия, что и в таблице и т.д.\n",
    "\n",
    "Для того чтобы это сделать, нужно вызвать от переменной *test_data* метод **head()**, который выводит первые 5 строк таблицы. \n",
    "\n",
    "Для вызова метода объекта необходимо сначала написать *имя объекта*, затем поставить *точку*, затем уже написать *название метода*. Обратите внимание, что в конце обязательно ставить скобочки, потому что метод - это функция и в ней есть аргументы, просто в данном случае мы их не передаем, поэтому оставляем поле пустым"
   ]
  },
  {
   "cell_type": "code",
   "execution_count": 20,
   "metadata": {},
   "outputs": [
    {
     "data": {
      "text/html": [
       "<div>\n",
       "<style scoped>\n",
       "    .dataframe tbody tr th:only-of-type {\n",
       "        vertical-align: middle;\n",
       "    }\n",
       "\n",
       "    .dataframe tbody tr th {\n",
       "        vertical-align: top;\n",
       "    }\n",
       "\n",
       "    .dataframe thead th {\n",
       "        text-align: right;\n",
       "    }\n",
       "</style>\n",
       "<table border=\"1\" class=\"dataframe\">\n",
       "  <thead>\n",
       "    <tr style=\"text-align: right;\">\n",
       "      <th></th>\n",
       "      <th>Целевая.Цена</th>\n",
       "      <th>Спальни</th>\n",
       "      <th>Ванные</th>\n",
       "      <th>Жилая площадь</th>\n",
       "      <th>Общая площадь</th>\n",
       "      <th>Количество этажей</th>\n",
       "      <th>Вид на воду</th>\n",
       "      <th>Просмотрены ранее</th>\n",
       "      <th>Состояние</th>\n",
       "      <th>Оценка риелтора</th>\n",
       "      <th>Площадь без подвала</th>\n",
       "      <th>Площадь подвала</th>\n",
       "      <th>Год постройки</th>\n",
       "      <th>Год реновации</th>\n",
       "      <th>Широта</th>\n",
       "      <th>Долгота</th>\n",
       "    </tr>\n",
       "  </thead>\n",
       "  <tbody>\n",
       "    <tr>\n",
       "      <th>0</th>\n",
       "      <td>260000</td>\n",
       "      <td>3</td>\n",
       "      <td>1.00</td>\n",
       "      <td>1300</td>\n",
       "      <td>10139</td>\n",
       "      <td>1.0</td>\n",
       "      <td>0</td>\n",
       "      <td>0</td>\n",
       "      <td>3</td>\n",
       "      <td>7</td>\n",
       "      <td>1300</td>\n",
       "      <td>0</td>\n",
       "      <td>1962</td>\n",
       "      <td>2007</td>\n",
       "      <td>47.3427</td>\n",
       "      <td>-122.087</td>\n",
       "    </tr>\n",
       "    <tr>\n",
       "      <th>1</th>\n",
       "      <td>734500</td>\n",
       "      <td>4</td>\n",
       "      <td>2.75</td>\n",
       "      <td>3280</td>\n",
       "      <td>6845</td>\n",
       "      <td>2.0</td>\n",
       "      <td>0</td>\n",
       "      <td>0</td>\n",
       "      <td>3</td>\n",
       "      <td>10</td>\n",
       "      <td>3280</td>\n",
       "      <td>0</td>\n",
       "      <td>2003</td>\n",
       "      <td>0</td>\n",
       "      <td>47.7042</td>\n",
       "      <td>-122.107</td>\n",
       "    </tr>\n",
       "    <tr>\n",
       "      <th>2</th>\n",
       "      <td>325000</td>\n",
       "      <td>1</td>\n",
       "      <td>1.00</td>\n",
       "      <td>1220</td>\n",
       "      <td>12426</td>\n",
       "      <td>1.0</td>\n",
       "      <td>0</td>\n",
       "      <td>4</td>\n",
       "      <td>4</td>\n",
       "      <td>6</td>\n",
       "      <td>1220</td>\n",
       "      <td>0</td>\n",
       "      <td>1946</td>\n",
       "      <td>0</td>\n",
       "      <td>47.4047</td>\n",
       "      <td>-122.331</td>\n",
       "    </tr>\n",
       "    <tr>\n",
       "      <th>3</th>\n",
       "      <td>1990000</td>\n",
       "      <td>3</td>\n",
       "      <td>2.50</td>\n",
       "      <td>2880</td>\n",
       "      <td>13500</td>\n",
       "      <td>1.0</td>\n",
       "      <td>0</td>\n",
       "      <td>4</td>\n",
       "      <td>5</td>\n",
       "      <td>8</td>\n",
       "      <td>1520</td>\n",
       "      <td>1360</td>\n",
       "      <td>1950</td>\n",
       "      <td>0</td>\n",
       "      <td>47.6281</td>\n",
       "      <td>-122.216</td>\n",
       "    </tr>\n",
       "    <tr>\n",
       "      <th>4</th>\n",
       "      <td>315000</td>\n",
       "      <td>3</td>\n",
       "      <td>2.00</td>\n",
       "      <td>1300</td>\n",
       "      <td>3731</td>\n",
       "      <td>1.0</td>\n",
       "      <td>0</td>\n",
       "      <td>0</td>\n",
       "      <td>3</td>\n",
       "      <td>7</td>\n",
       "      <td>900</td>\n",
       "      <td>400</td>\n",
       "      <td>1993</td>\n",
       "      <td>0</td>\n",
       "      <td>47.5374</td>\n",
       "      <td>-122.270</td>\n",
       "    </tr>\n",
       "  </tbody>\n",
       "</table>\n",
       "</div>"
      ],
      "text/plain": [
       "   Целевая.Цена  Спальни  Ванные  Жилая площадь  Общая площадь  \\\n",
       "0        260000        3    1.00           1300          10139   \n",
       "1        734500        4    2.75           3280           6845   \n",
       "2        325000        1    1.00           1220          12426   \n",
       "3       1990000        3    2.50           2880          13500   \n",
       "4        315000        3    2.00           1300           3731   \n",
       "\n",
       "   Количество этажей  Вид на воду  Просмотрены ранее  Состояние  \\\n",
       "0                1.0            0                  0          3   \n",
       "1                2.0            0                  0          3   \n",
       "2                1.0            0                  4          4   \n",
       "3                1.0            0                  4          5   \n",
       "4                1.0            0                  0          3   \n",
       "\n",
       "   Оценка риелтора  Площадь без подвала  Площадь подвала  Год постройки  \\\n",
       "0                7                 1300                0           1962   \n",
       "1               10                 3280                0           2003   \n",
       "2                6                 1220                0           1946   \n",
       "3                8                 1520             1360           1950   \n",
       "4                7                  900              400           1993   \n",
       "\n",
       "   Год реновации   Широта  Долгота  \n",
       "0           2007  47.3427 -122.087  \n",
       "1              0  47.7042 -122.107  \n",
       "2              0  47.4047 -122.331  \n",
       "3              0  47.6281 -122.216  \n",
       "4              0  47.5374 -122.270  "
      ]
     },
     "execution_count": 20,
     "metadata": {},
     "output_type": "execute_result"
    }
   ],
   "source": [
    "test_data.head()"
   ]
  },
  {
   "cell_type": "markdown",
   "metadata": {},
   "source": [
    "Посмотрим на размеры загруженной таблицы, так как мы видели только 5 строк\n",
    "\n",
    "Для этого вызываем поле **shape** у нашей переменной *test_data*. Поле вызывается также как метод, но в конце скобки не ставятся (!), так как для поля не предусмотрена передача аргументов.  "
   ]
  },
  {
   "cell_type": "code",
   "execution_count": 21,
   "metadata": {},
   "outputs": [
    {
     "data": {
      "text/plain": [
       "(6484, 16)"
      ]
     },
     "execution_count": 21,
     "metadata": {},
     "output_type": "execute_result"
    }
   ],
   "source": [
    "test_data.shape"
   ]
  },
  {
   "cell_type": "markdown",
   "metadata": {},
   "source": [
    "*Что означает первое и второе число?* \n",
    "Таблица содержит 6484 строк (объектов) и 16 столбцов (признаков), включая выходной (целевой) признак. Также как в учебных данных до обучения.\n",
    "\n",
    "Таблицу проверили, теперь можно приступать к обработке данных\n",
    "Действуем аналогично тому, как делали с данными для обучения"
   ]
  },
  {
   "cell_type": "markdown",
   "metadata": {},
   "source": [
    "Проверим, есть ли в данных пропуски. Для того чтобы это сделать, нужно обратиться вызвать у переменной *test_data* метод **info()**."
   ]
  },
  {
   "cell_type": "code",
   "execution_count": 22,
   "metadata": {},
   "outputs": [
    {
     "name": "stdout",
     "output_type": "stream",
     "text": [
      "<class 'pandas.core.frame.DataFrame'>\n",
      "RangeIndex: 6484 entries, 0 to 6483\n",
      "Data columns (total 16 columns):\n",
      "Целевая.Цена           6484 non-null int64\n",
      "Спальни                6484 non-null int64\n",
      "Ванные                 6484 non-null float64\n",
      "Жилая площадь          6484 non-null int64\n",
      "Общая площадь          6484 non-null int64\n",
      "Количество этажей      6484 non-null float64\n",
      "Вид на воду            6484 non-null int64\n",
      "Просмотрены ранее      6484 non-null int64\n",
      "Состояние              6484 non-null int64\n",
      "Оценка риелтора        6484 non-null int64\n",
      "Площадь без подвала    6484 non-null int64\n",
      "Площадь подвала        6484 non-null int64\n",
      "Год постройки          6484 non-null int64\n",
      "Год реновации          6484 non-null int64\n",
      "Широта                 6484 non-null float64\n",
      "Долгота                6484 non-null float64\n",
      "dtypes: float64(4), int64(12)\n",
      "memory usage: 810.6 KB\n"
     ]
    }
   ],
   "source": [
    "test_data.info()"
   ]
  },
  {
   "cell_type": "markdown",
   "metadata": {},
   "source": [
    "Цифры в каждой строчке обозначают количество заполненных (*non-null*) значений. Так как эти цифры в каждой строчке совпадают с числом строк (6484), то в данных нет пропусков."
   ]
  },
  {
   "cell_type": "markdown",
   "metadata": {},
   "source": [
    "**Шаг 4.2. Отделяем целевую переменную**"
   ]
  },
  {
   "cell_type": "markdown",
   "metadata": {},
   "source": [
    "Нам нужно выделить в отдельную переменную *test_values* столбец из нашей таблицы, который соответствует определенной выше целевой переменной. Для этого мы у таблицы *test_data* в квадратных скобках указываем имя нужного столбца. В нашем случае это имя записано в переменной *target_variable_name*. "
   ]
  },
  {
   "cell_type": "code",
   "execution_count": 23,
   "metadata": {},
   "outputs": [],
   "source": [
    "test_values = test_data[target_variable_name]"
   ]
  },
  {
   "cell_type": "markdown",
   "metadata": {},
   "source": [
    "Отделим входные переменные от выходной (целевой), чтобы можно было построить модель предсказания целевой переменной по входным. \n",
    "Для это нужно у переменной *test_data* вызвать метод **drop()**. Результат мы записываем в новую переменную *test_points*. После выполнения запроса *test_points* будет содержать исходную таблицу без целевого столбца. \n",
    "\n",
    "Обратите внимание, что в данном случае мы передаем два аргумента:\n",
    "    1. target_variable_name - название столбца цены, который мы ранее записали в эту переменную и теперь хотим удалить из training_data\n",
    "    2. axis=1 - означает, что мы удаляем столбец, а в случае axis=0 - означает, что мы удаляем строку"
   ]
  },
  {
   "cell_type": "code",
   "execution_count": 24,
   "metadata": {},
   "outputs": [],
   "source": [
    "test_points = test_data.drop(target_variable_name, axis=1)"
   ]
  },
  {
   "cell_type": "markdown",
   "metadata": {},
   "source": [
    "И проверяем результат записанный в test_points"
   ]
  },
  {
   "cell_type": "code",
   "execution_count": 25,
   "metadata": {},
   "outputs": [
    {
     "data": {
      "text/html": [
       "<div>\n",
       "<style scoped>\n",
       "    .dataframe tbody tr th:only-of-type {\n",
       "        vertical-align: middle;\n",
       "    }\n",
       "\n",
       "    .dataframe tbody tr th {\n",
       "        vertical-align: top;\n",
       "    }\n",
       "\n",
       "    .dataframe thead th {\n",
       "        text-align: right;\n",
       "    }\n",
       "</style>\n",
       "<table border=\"1\" class=\"dataframe\">\n",
       "  <thead>\n",
       "    <tr style=\"text-align: right;\">\n",
       "      <th></th>\n",
       "      <th>Спальни</th>\n",
       "      <th>Ванные</th>\n",
       "      <th>Жилая площадь</th>\n",
       "      <th>Общая площадь</th>\n",
       "      <th>Количество этажей</th>\n",
       "      <th>Вид на воду</th>\n",
       "      <th>Просмотрены ранее</th>\n",
       "      <th>Состояние</th>\n",
       "      <th>Оценка риелтора</th>\n",
       "      <th>Площадь без подвала</th>\n",
       "      <th>Площадь подвала</th>\n",
       "      <th>Год постройки</th>\n",
       "      <th>Год реновации</th>\n",
       "      <th>Широта</th>\n",
       "      <th>Долгота</th>\n",
       "    </tr>\n",
       "  </thead>\n",
       "  <tbody>\n",
       "    <tr>\n",
       "      <th>0</th>\n",
       "      <td>3</td>\n",
       "      <td>1.00</td>\n",
       "      <td>1300</td>\n",
       "      <td>10139</td>\n",
       "      <td>1.0</td>\n",
       "      <td>0</td>\n",
       "      <td>0</td>\n",
       "      <td>3</td>\n",
       "      <td>7</td>\n",
       "      <td>1300</td>\n",
       "      <td>0</td>\n",
       "      <td>1962</td>\n",
       "      <td>2007</td>\n",
       "      <td>47.3427</td>\n",
       "      <td>-122.087</td>\n",
       "    </tr>\n",
       "    <tr>\n",
       "      <th>1</th>\n",
       "      <td>4</td>\n",
       "      <td>2.75</td>\n",
       "      <td>3280</td>\n",
       "      <td>6845</td>\n",
       "      <td>2.0</td>\n",
       "      <td>0</td>\n",
       "      <td>0</td>\n",
       "      <td>3</td>\n",
       "      <td>10</td>\n",
       "      <td>3280</td>\n",
       "      <td>0</td>\n",
       "      <td>2003</td>\n",
       "      <td>0</td>\n",
       "      <td>47.7042</td>\n",
       "      <td>-122.107</td>\n",
       "    </tr>\n",
       "    <tr>\n",
       "      <th>2</th>\n",
       "      <td>1</td>\n",
       "      <td>1.00</td>\n",
       "      <td>1220</td>\n",
       "      <td>12426</td>\n",
       "      <td>1.0</td>\n",
       "      <td>0</td>\n",
       "      <td>4</td>\n",
       "      <td>4</td>\n",
       "      <td>6</td>\n",
       "      <td>1220</td>\n",
       "      <td>0</td>\n",
       "      <td>1946</td>\n",
       "      <td>0</td>\n",
       "      <td>47.4047</td>\n",
       "      <td>-122.331</td>\n",
       "    </tr>\n",
       "    <tr>\n",
       "      <th>3</th>\n",
       "      <td>3</td>\n",
       "      <td>2.50</td>\n",
       "      <td>2880</td>\n",
       "      <td>13500</td>\n",
       "      <td>1.0</td>\n",
       "      <td>0</td>\n",
       "      <td>4</td>\n",
       "      <td>5</td>\n",
       "      <td>8</td>\n",
       "      <td>1520</td>\n",
       "      <td>1360</td>\n",
       "      <td>1950</td>\n",
       "      <td>0</td>\n",
       "      <td>47.6281</td>\n",
       "      <td>-122.216</td>\n",
       "    </tr>\n",
       "    <tr>\n",
       "      <th>4</th>\n",
       "      <td>3</td>\n",
       "      <td>2.00</td>\n",
       "      <td>1300</td>\n",
       "      <td>3731</td>\n",
       "      <td>1.0</td>\n",
       "      <td>0</td>\n",
       "      <td>0</td>\n",
       "      <td>3</td>\n",
       "      <td>7</td>\n",
       "      <td>900</td>\n",
       "      <td>400</td>\n",
       "      <td>1993</td>\n",
       "      <td>0</td>\n",
       "      <td>47.5374</td>\n",
       "      <td>-122.270</td>\n",
       "    </tr>\n",
       "  </tbody>\n",
       "</table>\n",
       "</div>"
      ],
      "text/plain": [
       "   Спальни  Ванные  Жилая площадь  Общая площадь  Количество этажей  \\\n",
       "0        3    1.00           1300          10139                1.0   \n",
       "1        4    2.75           3280           6845                2.0   \n",
       "2        1    1.00           1220          12426                1.0   \n",
       "3        3    2.50           2880          13500                1.0   \n",
       "4        3    2.00           1300           3731                1.0   \n",
       "\n",
       "   Вид на воду  Просмотрены ранее  Состояние  Оценка риелтора  \\\n",
       "0            0                  0          3                7   \n",
       "1            0                  0          3               10   \n",
       "2            0                  4          4                6   \n",
       "3            0                  4          5                8   \n",
       "4            0                  0          3                7   \n",
       "\n",
       "   Площадь без подвала  Площадь подвала  Год постройки  Год реновации  \\\n",
       "0                 1300                0           1962           2007   \n",
       "1                 3280                0           2003              0   \n",
       "2                 1220                0           1946              0   \n",
       "3                 1520             1360           1950              0   \n",
       "4                  900              400           1993              0   \n",
       "\n",
       "    Широта  Долгота  \n",
       "0  47.3427 -122.087  \n",
       "1  47.7042 -122.107  \n",
       "2  47.4047 -122.331  \n",
       "3  47.6281 -122.216  \n",
       "4  47.5374 -122.270  "
      ]
     },
     "execution_count": 25,
     "metadata": {},
     "output_type": "execute_result"
    }
   ],
   "source": [
    "test_points.head()"
   ]
  },
  {
   "cell_type": "code",
   "execution_count": 26,
   "metadata": {},
   "outputs": [
    {
     "data": {
      "text/plain": [
       "(6484, 15)"
      ]
     },
     "execution_count": 26,
     "metadata": {},
     "output_type": "execute_result"
    }
   ],
   "source": [
    "test_points.shape"
   ]
  },
  {
   "cell_type": "markdown",
   "metadata": {},
   "source": [
    "Видно, что количество столбцов уменьшилось на один. Данные в 5 первых строках такие же, как были ранее."
   ]
  },
  {
   "cell_type": "markdown",
   "metadata": {},
   "source": [
    "# 5. Провалидировать модель на тестовой выборке"
   ]
  },
  {
   "cell_type": "markdown",
   "metadata": {},
   "source": [
    "**Шаг 5.1. Сравнение моделей.**\n",
    "\n",
    "Теперь мы готовы сравнить качество двух моделей! 😎"
   ]
  },
  {
   "cell_type": "markdown",
   "metadata": {},
   "source": [
    "*1. Какая модель лучше?*\n",
    "\n",
    "Получим прогнозы целевой переменной на тестовых данных для модели линейной регрессии м модели случайного леса. \n",
    "\n",
    "Для этого вызовем у каждой модели метод **predict()**, в качестве аргумента передадим *test_points*."
   ]
  },
  {
   "cell_type": "code",
   "execution_count": 27,
   "metadata": {},
   "outputs": [],
   "source": [
    "test_predictions_linear = linear_regression_model.predict(test_points)"
   ]
  },
  {
   "cell_type": "code",
   "execution_count": 28,
   "metadata": {},
   "outputs": [],
   "source": [
    "test_predictions_random_forest = random_forest_model.predict(test_points)"
   ]
  },
  {
   "cell_type": "markdown",
   "metadata": {},
   "source": [
    "Качество регрессионных моделей оценим двумя способами: \n",
    "1. Сравним визуально прогнозы с настоящими ценами (тестовые с предсказанием)\n",
    "2. Сравним метрики качества"
   ]
  },
  {
   "cell_type": "markdown",
   "metadata": {},
   "source": [
    "Визуализируем прогноз линейной модели и настоящие значения из тестовой выборки"
   ]
  },
  {
   "cell_type": "code",
   "execution_count": 29,
   "metadata": {},
   "outputs": [],
   "source": [
    "%matplotlib inline "
   ]
  },
  {
   "cell_type": "code",
   "execution_count": 30,
   "metadata": {},
   "outputs": [
    {
     "data": {
      "image/png": "[encoded data removed]",
      "text/plain": [
       "<Figure size 504x504 with 1 Axes>"
      ]
     },
     "metadata": {
      "needs_background": "light"
     },
     "output_type": "display_data"
    }
   ],
   "source": [
    "plt.figure(figsize=(7, 7))\n",
    "plt.scatter(test_values, test_predictions_linear) # рисуем точки, соответствущие парам настоящее значение - прогноз\n",
    "plt.plot([0, 6 * 10**6], [0, 6 * 10**6]) # рисуем прямую, на которой предсказания и настоящие значения совпадают\n",
    "plt.xlabel('Настоящая цена', fontsize=20)\n",
    "plt.ylabel('Предсказанная цена', fontsize=20);"
   ]
  },
  {
   "cell_type": "markdown",
   "metadata": {},
   "source": [
    "Визуализируем прогноз модели случайного леса и настоящие значения из тестовой выборки"
   ]
  },
  {
   "cell_type": "code",
   "execution_count": 31,
   "metadata": {},
   "outputs": [
    {
     "data": {
      "image/png": "[encoded data removed]",
      "text/plain": [
       "<Figure size 504x504 with 1 Axes>"
      ]
     },
     "metadata": {
      "needs_background": "light"
     },
     "output_type": "display_data"
    }
   ],
   "source": [
    "plt.figure(figsize=(7, 7))\n",
    "plt.scatter(test_values, test_predictions_random_forest)\n",
    "plt.plot([0, 6 * 10**6], [0, 6 * 10**6])\n",
    "plt.xlabel('Настоящая цена', fontsize=20)\n",
    "plt.ylabel('Предсказанная цена', fontsize=20);"
   ]
  },
  {
   "cell_type": "markdown",
   "metadata": {},
   "source": [
    "Кажется, что лучше сработала модель случайного леса, так как точки на втором изображении расположены вдоль диагонали. На первом изображении видно, что для высоких настоящих цен модель линейной регрессии дает существенно заниженный результат. \n",
    "\n",
    "Проверим, так ли это с помощью **метрик качества регрессионной модели**"
   ]
  },
  {
   "cell_type": "markdown",
   "metadata": {},
   "source": [
    "Для корректного подсчета метрик качества модели в python требуется загрузить их из библиотеки **sklearn**. \n",
    "\n",
    "Мы используем две метрики качества:\n",
    " * *mean_absolute_error* - средняя абсолютная ошибка $|y_i - \\hat{y}_i|$\n",
    " * *mean_squared_error* - средняя квадратичная ошибка $(y_i - \\hat{y}_i)^2$"
   ]
  },
  {
   "cell_type": "code",
   "execution_count": 32,
   "metadata": {},
   "outputs": [],
   "source": [
    "from sklearn.metrics import mean_absolute_error, mean_squared_error"
   ]
  },
  {
   "cell_type": "markdown",
   "metadata": {},
   "source": [
    "Подсчитаем ошибки для линейной модели.\n",
    "\n",
    "Для этого вызовем методы **mean_absolute_error()** и **mean_squared_error()**. На вход им передается столбец настоящих значений *test_values* и столбец значений, предсказанных моделью линейной регрессии *test_predictions_linear*."
   ]
  },
  {
   "cell_type": "code",
   "execution_count": 33,
   "metadata": {},
   "outputs": [],
   "source": [
    "mean_absolute_error_linear_model = mean_absolute_error(test_values, test_predictions_linear)\n",
    "mean_squared_error_linear_model = mean_squared_error(test_values, test_predictions_linear)"
   ]
  },
  {
   "cell_type": "markdown",
   "metadata": {},
   "source": [
    "Подсчитаем ошибки для модели случайного леса.\n",
    "\n",
    "Для этого вызовем методы **mean_absolute_error()** и **mean_squared_error()**. На вход им передается столбец настоящих значений *test_values* и столбец значений, предсказанных моделью линейной регрессии *test_predictions_random_forest*."
   ]
  },
  {
   "cell_type": "code",
   "execution_count": 34,
   "metadata": {},
   "outputs": [],
   "source": [
    "mean_absolute_error_random_forest_model = mean_absolute_error(test_values, test_predictions_random_forest)\n",
    "mean_squared_error_random_forest_model = mean_squared_error(test_values, test_predictions_random_forest)"
   ]
  },
  {
   "cell_type": "markdown",
   "metadata": {},
   "source": [
    "Теперь напечатаем полученные ошибки.\n",
    "\n",
    "Из средней квадратичной ошибки нужно взять корень\n",
    "\n",
    "Используем еще одну библиотеку для математических функций и работы многомерными массивами - ***NumPy***."
   ]
  },
  {
   "cell_type": "code",
   "execution_count": 35,
   "metadata": {},
   "outputs": [
    {
     "name": "stdout",
     "output_type": "stream",
     "text": [
      "MAE: 126852.51, RMSE: 201883.24 для модели линейной регрессии\n",
      "MAE: 74870.62, RMSE: 142024.97 для модели случайного леса\n"
     ]
    }
   ],
   "source": [
    "import numpy as np\n",
    "\n",
    "print(\"MAE: {0:7.2f}, RMSE: {1:7.2f} для модели линейной регрессии\".format(\n",
    "        mean_absolute_error_linear_model, \n",
    "        np.sqrt(mean_squared_error_linear_model)))\n",
    "\n",
    "print(\"MAE: {0:7.2f}, RMSE: {1:7.2f} для модели случайного леса\".format(\n",
    "       mean_absolute_error_random_forest_model, \n",
    "       np.sqrt (mean_squared_error_random_forest_model)))"
   ]
  },
  {
   "cell_type": "markdown",
   "metadata": {},
   "source": [
    "Модель случайного леса работает лучше не только визуально, но и на основании результатов абсолютной и средне квадратичной ошибки, которые меньше для модели случайного леса."
   ]
  },
  {
   "cell_type": "markdown",
   "metadata": {},
   "source": [
    "# Обзор результатов\n",
    "\n",
    "В этом ноутбуке мы научились \n",
    "0. Загружать библиотеки, необходимые для работы.\n",
    "1. Загрузить данные для обучения, представленные в формате excel таблицы.\n",
    "2. Проводить предрватилельную обработку данных перед построением и использованием модели машинного обучения: смотреть на части таблицы, понимать, какой размер у выборки данных, выделять отдельные столбцы таблицы в новые таблицы.\n",
    "3. Обучать модель линейной регрессии и решающего леса на обучающей выборке.\n",
    "4. Валидировать модель на тестовой выборке с помощью кросс-плота для модели и реальных значений, стандартных ошибок модели."
   ]
  },
  {
   "cell_type": "markdown",
   "metadata": {},
   "source": [
    "## 6. Бонус: Выявление важных признаков"
   ]
  },
  {
   "cell_type": "markdown",
   "metadata": {},
   "source": [
    "Признаки, используемые для обучения модели, оказывают большое влияние на качество результатов. Неинформативные или слабо информативные признаки могут снизить качество модели, использование избыточных признаков в модели замедляет скорость ее работы.\n",
    "\n",
    "Для того, чтобы отобрать признаки нам следует ответить на следующие вопросы: \n",
    "    1. Все ли признаки в наших данных заполненны разумными значениями?\n",
    "    2. Какие признаки будут больше всего влиять на значение целевой переменной?\n",
    "    3*. Какие дополнительные признаки имело бы смысл добавить в список входных?"
   ]
  },
  {
   "cell_type": "markdown",
   "metadata": {},
   "source": [
    "**6.1. Разглядывание значений признаков**\n",
    "\n",
    "Для того чтобы ответить на первый вопрос, нам необходимо получить некоторую нашу экспертную оценку данных. В наших данных нет пропусков, однако иногда пропуски предварительно заполняют другими значениями (0, 999 и другие) и их можно увидеть, только внимательно посмотрев на данные. \n",
    "\n",
    "Для того, чтобы это сделать, нужно вызвать у переменной *training_points* метод **head(10)**, который выводит первые 10 строк таблицы."
   ]
  },
  {
   "cell_type": "code",
   "execution_count": 36,
   "metadata": {},
   "outputs": [
    {
     "data": {
      "text/html": [
       "<div>\n",
       "<style scoped>\n",
       "    .dataframe tbody tr th:only-of-type {\n",
       "        vertical-align: middle;\n",
       "    }\n",
       "\n",
       "    .dataframe tbody tr th {\n",
       "        vertical-align: top;\n",
       "    }\n",
       "\n",
       "    .dataframe thead th {\n",
       "        text-align: right;\n",
       "    }\n",
       "</style>\n",
       "<table border=\"1\" class=\"dataframe\">\n",
       "  <thead>\n",
       "    <tr style=\"text-align: right;\">\n",
       "      <th></th>\n",
       "      <th>Спальни</th>\n",
       "      <th>Ванные</th>\n",
       "      <th>Жилая площадь</th>\n",
       "      <th>Общая площадь</th>\n",
       "      <th>Количество этажей</th>\n",
       "      <th>Вид на воду</th>\n",
       "      <th>Просмотрены ранее</th>\n",
       "      <th>Состояние</th>\n",
       "      <th>Оценка риелтора</th>\n",
       "      <th>Площадь без подвала</th>\n",
       "      <th>Площадь подвала</th>\n",
       "      <th>Год постройки</th>\n",
       "      <th>Год реновации</th>\n",
       "      <th>Широта</th>\n",
       "      <th>Долгота</th>\n",
       "    </tr>\n",
       "  </thead>\n",
       "  <tbody>\n",
       "    <tr>\n",
       "      <th>0</th>\n",
       "      <td>5</td>\n",
       "      <td>3.50</td>\n",
       "      <td>3490</td>\n",
       "      <td>21780</td>\n",
       "      <td>2.0</td>\n",
       "      <td>0</td>\n",
       "      <td>0</td>\n",
       "      <td>3</td>\n",
       "      <td>8</td>\n",
       "      <td>3490</td>\n",
       "      <td>0</td>\n",
       "      <td>1996</td>\n",
       "      <td>0</td>\n",
       "      <td>47.6707</td>\n",
       "      <td>-122.144</td>\n",
       "    </tr>\n",
       "    <tr>\n",
       "      <th>1</th>\n",
       "      <td>4</td>\n",
       "      <td>1.75</td>\n",
       "      <td>2360</td>\n",
       "      <td>7620</td>\n",
       "      <td>1.0</td>\n",
       "      <td>0</td>\n",
       "      <td>0</td>\n",
       "      <td>4</td>\n",
       "      <td>7</td>\n",
       "      <td>1180</td>\n",
       "      <td>1180</td>\n",
       "      <td>1955</td>\n",
       "      <td>0</td>\n",
       "      <td>47.5278</td>\n",
       "      <td>-122.345</td>\n",
       "    </tr>\n",
       "    <tr>\n",
       "      <th>2</th>\n",
       "      <td>6</td>\n",
       "      <td>2.75</td>\n",
       "      <td>2040</td>\n",
       "      <td>8560</td>\n",
       "      <td>1.0</td>\n",
       "      <td>0</td>\n",
       "      <td>2</td>\n",
       "      <td>4</td>\n",
       "      <td>7</td>\n",
       "      <td>1100</td>\n",
       "      <td>940</td>\n",
       "      <td>1961</td>\n",
       "      <td>0</td>\n",
       "      <td>47.6160</td>\n",
       "      <td>-122.115</td>\n",
       "    </tr>\n",
       "    <tr>\n",
       "      <th>3</th>\n",
       "      <td>3</td>\n",
       "      <td>1.75</td>\n",
       "      <td>1940</td>\n",
       "      <td>8376</td>\n",
       "      <td>1.0</td>\n",
       "      <td>0</td>\n",
       "      <td>0</td>\n",
       "      <td>4</td>\n",
       "      <td>8</td>\n",
       "      <td>1290</td>\n",
       "      <td>650</td>\n",
       "      <td>1963</td>\n",
       "      <td>0</td>\n",
       "      <td>47.5586</td>\n",
       "      <td>-122.173</td>\n",
       "    </tr>\n",
       "    <tr>\n",
       "      <th>4</th>\n",
       "      <td>3</td>\n",
       "      <td>2.75</td>\n",
       "      <td>3450</td>\n",
       "      <td>5350</td>\n",
       "      <td>1.5</td>\n",
       "      <td>0</td>\n",
       "      <td>3</td>\n",
       "      <td>4</td>\n",
       "      <td>9</td>\n",
       "      <td>2590</td>\n",
       "      <td>860</td>\n",
       "      <td>1925</td>\n",
       "      <td>0</td>\n",
       "      <td>47.6389</td>\n",
       "      <td>-122.407</td>\n",
       "    </tr>\n",
       "    <tr>\n",
       "      <th>5</th>\n",
       "      <td>3</td>\n",
       "      <td>2.25</td>\n",
       "      <td>2300</td>\n",
       "      <td>9914</td>\n",
       "      <td>2.0</td>\n",
       "      <td>0</td>\n",
       "      <td>0</td>\n",
       "      <td>4</td>\n",
       "      <td>8</td>\n",
       "      <td>2300</td>\n",
       "      <td>0</td>\n",
       "      <td>1980</td>\n",
       "      <td>0</td>\n",
       "      <td>47.5677</td>\n",
       "      <td>-122.086</td>\n",
       "    </tr>\n",
       "    <tr>\n",
       "      <th>6</th>\n",
       "      <td>3</td>\n",
       "      <td>2.50</td>\n",
       "      <td>2770</td>\n",
       "      <td>8820</td>\n",
       "      <td>1.0</td>\n",
       "      <td>0</td>\n",
       "      <td>0</td>\n",
       "      <td>3</td>\n",
       "      <td>7</td>\n",
       "      <td>1900</td>\n",
       "      <td>870</td>\n",
       "      <td>1980</td>\n",
       "      <td>2004</td>\n",
       "      <td>47.3685</td>\n",
       "      <td>-122.048</td>\n",
       "    </tr>\n",
       "    <tr>\n",
       "      <th>7</th>\n",
       "      <td>2</td>\n",
       "      <td>1.75</td>\n",
       "      <td>1650</td>\n",
       "      <td>7500</td>\n",
       "      <td>1.0</td>\n",
       "      <td>0</td>\n",
       "      <td>0</td>\n",
       "      <td>4</td>\n",
       "      <td>7</td>\n",
       "      <td>1000</td>\n",
       "      <td>650</td>\n",
       "      <td>1959</td>\n",
       "      <td>0</td>\n",
       "      <td>47.6871</td>\n",
       "      <td>-122.207</td>\n",
       "    </tr>\n",
       "    <tr>\n",
       "      <th>8</th>\n",
       "      <td>1</td>\n",
       "      <td>1.00</td>\n",
       "      <td>580</td>\n",
       "      <td>1799</td>\n",
       "      <td>1.0</td>\n",
       "      <td>0</td>\n",
       "      <td>0</td>\n",
       "      <td>3</td>\n",
       "      <td>7</td>\n",
       "      <td>580</td>\n",
       "      <td>0</td>\n",
       "      <td>1908</td>\n",
       "      <td>2005</td>\n",
       "      <td>47.6829</td>\n",
       "      <td>-122.375</td>\n",
       "    </tr>\n",
       "    <tr>\n",
       "      <th>9</th>\n",
       "      <td>2</td>\n",
       "      <td>1.00</td>\n",
       "      <td>900</td>\n",
       "      <td>3400</td>\n",
       "      <td>1.0</td>\n",
       "      <td>0</td>\n",
       "      <td>0</td>\n",
       "      <td>5</td>\n",
       "      <td>6</td>\n",
       "      <td>900</td>\n",
       "      <td>0</td>\n",
       "      <td>1905</td>\n",
       "      <td>0</td>\n",
       "      <td>47.5269</td>\n",
       "      <td>-122.314</td>\n",
       "    </tr>\n",
       "  </tbody>\n",
       "</table>\n",
       "</div>"
      ],
      "text/plain": [
       "   Спальни  Ванные  Жилая площадь  Общая площадь  Количество этажей  \\\n",
       "0        5    3.50           3490          21780                2.0   \n",
       "1        4    1.75           2360           7620                1.0   \n",
       "2        6    2.75           2040           8560                1.0   \n",
       "3        3    1.75           1940           8376                1.0   \n",
       "4        3    2.75           3450           5350                1.5   \n",
       "5        3    2.25           2300           9914                2.0   \n",
       "6        3    2.50           2770           8820                1.0   \n",
       "7        2    1.75           1650           7500                1.0   \n",
       "8        1    1.00            580           1799                1.0   \n",
       "9        2    1.00            900           3400                1.0   \n",
       "\n",
       "   Вид на воду  Просмотрены ранее  Состояние  Оценка риелтора  \\\n",
       "0            0                  0          3                8   \n",
       "1            0                  0          4                7   \n",
       "2            0                  2          4                7   \n",
       "3            0                  0          4                8   \n",
       "4            0                  3          4                9   \n",
       "5            0                  0          4                8   \n",
       "6            0                  0          3                7   \n",
       "7            0                  0          4                7   \n",
       "8            0                  0          3                7   \n",
       "9            0                  0          5                6   \n",
       "\n",
       "   Площадь без подвала  Площадь подвала  Год постройки  Год реновации  \\\n",
       "0                 3490                0           1996              0   \n",
       "1                 1180             1180           1955              0   \n",
       "2                 1100              940           1961              0   \n",
       "3                 1290              650           1963              0   \n",
       "4                 2590              860           1925              0   \n",
       "5                 2300                0           1980              0   \n",
       "6                 1900              870           1980           2004   \n",
       "7                 1000              650           1959              0   \n",
       "8                  580                0           1908           2005   \n",
       "9                  900                0           1905              0   \n",
       "\n",
       "    Широта  Долгота  \n",
       "0  47.6707 -122.144  \n",
       "1  47.5278 -122.345  \n",
       "2  47.6160 -122.115  \n",
       "3  47.5586 -122.173  \n",
       "4  47.6389 -122.407  \n",
       "5  47.5677 -122.086  \n",
       "6  47.3685 -122.048  \n",
       "7  47.6871 -122.207  \n",
       "8  47.6829 -122.375  \n",
       "9  47.5269 -122.314  "
      ]
     },
     "execution_count": 36,
     "metadata": {},
     "output_type": "execute_result"
    }
   ],
   "source": [
    "training_points.head(10)"
   ]
  },
  {
   "cell_type": "markdown",
   "metadata": {},
   "source": [
    "Рассмотрим столбец \"Год реновации\". Он содержит много нулей и мало реальных данных о годах, что как раз свидетельствует о том, что в этих данных изначально были пропуски, а к нам они попали уже заполненные нулями. \n",
    "\n",
    "Мы можем посмотреть количество уникальных значений и сколько раз эти значения встречаются в этом столбце. Для этого вызываем метод **value_counts()** у нашего столбца *training_points['Год реновации']*"
   ]
  },
  {
   "cell_type": "code",
   "execution_count": 37,
   "metadata": {
    "scrolled": true
   },
   "outputs": [
    {
     "data": {
      "text/plain": [
       "0       14490\n",
       "2014       63\n",
       "2013       31\n",
       "2000       28\n",
       "2003       24\n",
       "2007       23\n",
       "2005       22\n",
       "2006       19\n",
       "2004       17\n",
       "2009       17\n",
       "1991       16\n",
       "1989       16\n",
       "2008       15\n",
       "2001       15\n",
       "1998       14\n",
       "1995       14\n",
       "2002       14\n",
       "1999       13\n",
       "1987       13\n",
       "1993       13\n",
       "1983       13\n",
       "1990       13\n",
       "1986       12\n",
       "1988       12\n",
       "1985       12\n",
       "1994       11\n",
       "1992       11\n",
       "2015       11\n",
       "1984       10\n",
       "1996       10\n",
       "        ...  \n",
       "1965        5\n",
       "1979        5\n",
       "1958        5\n",
       "1975        4\n",
       "1977        4\n",
       "1978        4\n",
       "1970        4\n",
       "1973        4\n",
       "1981        3\n",
       "1976        3\n",
       "1945        3\n",
       "1969        3\n",
       "1974        2\n",
       "1960        2\n",
       "1964        2\n",
       "1956        2\n",
       "1957        2\n",
       "1971        2\n",
       "1963        2\n",
       "1972        2\n",
       "1940        2\n",
       "1950        1\n",
       "1953        1\n",
       "1934        1\n",
       "1946        1\n",
       "1959        1\n",
       "1948        1\n",
       "1954        1\n",
       "1962        1\n",
       "1955        1\n",
       "Name: Год реновации, Length: 67, dtype: int64"
      ]
     },
     "execution_count": 37,
     "metadata": {},
     "output_type": "execute_result"
    }
   ],
   "source": [
    "training_points['Год реновации'].value_counts()"
   ]
  },
  {
   "cell_type": "markdown",
   "metadata": {},
   "source": [
    "Как видно, нулей существенно больше (14490), чем любых других значений (639), поэтому можем сделать вывод, что этот признак не информативен и может негативно повлиять на качество модели."
   ]
  },
  {
   "cell_type": "markdown",
   "metadata": {},
   "source": [
    "**6.2. Какие признаки самые важные**\n",
    "\n",
    "Ручной перебор признаков невозможен, если их тысячи, кроме того, часто даже эксперты не могут сказать, использование каких признаков в модели даст прирост качества.\n",
    "Кроме ручного перебора всех признаков и их визуального анализа, можно использовать оценку значимости признаков с помощью обученных моделей. "
   ]
  },
  {
   "cell_type": "code",
   "execution_count": 38,
   "metadata": {},
   "outputs": [
    {
     "data": {
      "text/plain": [
       "RandomForestRegressor(bootstrap=True, criterion='mse', max_depth=None,\n",
       "           max_features='auto', max_leaf_nodes=None,\n",
       "           min_impurity_decrease=0.0, min_impurity_split=None,\n",
       "           min_samples_leaf=1, min_samples_split=2,\n",
       "           min_weight_fraction_leaf=0.0, n_estimators=10, n_jobs=1,\n",
       "           oob_score=False, random_state=None, verbose=0, warm_start=False)"
      ]
     },
     "execution_count": 38,
     "metadata": {},
     "output_type": "execute_result"
    }
   ],
   "source": [
    "# на всякий случай переобучим модель, так как оценить значимость признаков можно только у уже обученной модели\n",
    "random_forest_model.fit(training_points, training_values)"
   ]
  },
  {
   "cell_type": "markdown",
   "metadata": {},
   "source": [
    "Получить оценку важности признаков можно вызвав поле **feature\\_importances\\_** у модели *random\\_forest\\_model*. "
   ]
  },
  {
   "cell_type": "code",
   "execution_count": 39,
   "metadata": {},
   "outputs": [
    {
     "data": {
      "text/plain": [
       "array([0.00359204, 0.01198224, 0.29431741, 0.02425839, 0.0027096 ,\n",
       "       0.02728388, 0.01344374, 0.00341878, 0.30319281, 0.02343902,\n",
       "       0.00631403, 0.02684678, 0.00228705, 0.17871685, 0.07819737])"
      ]
     },
     "execution_count": 39,
     "metadata": {},
     "output_type": "execute_result"
    }
   ],
   "source": [
    "random_forest_model.feature_importances_"
   ]
  },
  {
   "cell_type": "markdown",
   "metadata": {},
   "source": [
    "Набор цифр, которые мы получили выше, соответствует признакам, на которых мы обучали модель. Посмотреть эти признаки можно, вызвав у *training_points* метод **keys()**"
   ]
  },
  {
   "cell_type": "code",
   "execution_count": 40,
   "metadata": {},
   "outputs": [
    {
     "data": {
      "text/plain": [
       "Index(['Спальни', 'Ванные', 'Жилая площадь', 'Общая площадь',\n",
       "       'Количество этажей', 'Вид на воду', 'Просмотрены ранее', 'Состояние',\n",
       "       'Оценка риелтора', 'Площадь без подвала', 'Площадь подвала',\n",
       "       'Год постройки', 'Год реновации', 'Широта', 'Долгота'],\n",
       "      dtype='object')"
      ]
     },
     "execution_count": 40,
     "metadata": {},
     "output_type": "execute_result"
    }
   ],
   "source": [
    "training_points.keys()"
   ]
  },
  {
   "cell_type": "markdown",
   "metadata": {},
   "source": [
    "Представим полученные результаты в более удобном табличном виде. Создадим пустую таблицу *feature_importance* с двумя колонками \"Название признака\", \"Важность признака\". Для этого воспользуемся функцией **DataFrame()** из библиотеки pandas и передадим ей в качестве аргумента   \n",
    "*columns = [\"Название признака\", \"Важность признака\"]*"
   ]
  },
  {
   "cell_type": "code",
   "execution_count": 41,
   "metadata": {},
   "outputs": [],
   "source": [
    "feature_importance = pd.DataFrame(columns = ['Название признака', 'Важность признака'])"
   ]
  },
  {
   "cell_type": "markdown",
   "metadata": {},
   "source": [
    "Заполним соответствующие колонки значениями, которые мы получили выше. "
   ]
  },
  {
   "cell_type": "code",
   "execution_count": 42,
   "metadata": {},
   "outputs": [],
   "source": [
    "feature_importance['Название признака'] = training_points.keys()\n",
    "feature_importance['Важность признака'] = random_forest_model.feature_importances_"
   ]
  },
  {
   "cell_type": "code",
   "execution_count": 43,
   "metadata": {},
   "outputs": [
    {
     "data": {
      "text/html": [
       "<div>\n",
       "<style scoped>\n",
       "    .dataframe tbody tr th:only-of-type {\n",
       "        vertical-align: middle;\n",
       "    }\n",
       "\n",
       "    .dataframe tbody tr th {\n",
       "        vertical-align: top;\n",
       "    }\n",
       "\n",
       "    .dataframe thead th {\n",
       "        text-align: right;\n",
       "    }\n",
       "</style>\n",
       "<table border=\"1\" class=\"dataframe\">\n",
       "  <thead>\n",
       "    <tr style=\"text-align: right;\">\n",
       "      <th></th>\n",
       "      <th>Название признака</th>\n",
       "      <th>Важность признака</th>\n",
       "    </tr>\n",
       "  </thead>\n",
       "  <tbody>\n",
       "    <tr>\n",
       "      <th>0</th>\n",
       "      <td>Спальни</td>\n",
       "      <td>0.003592</td>\n",
       "    </tr>\n",
       "    <tr>\n",
       "      <th>1</th>\n",
       "      <td>Ванные</td>\n",
       "      <td>0.011982</td>\n",
       "    </tr>\n",
       "    <tr>\n",
       "      <th>2</th>\n",
       "      <td>Жилая площадь</td>\n",
       "      <td>0.294317</td>\n",
       "    </tr>\n",
       "    <tr>\n",
       "      <th>3</th>\n",
       "      <td>Общая площадь</td>\n",
       "      <td>0.024258</td>\n",
       "    </tr>\n",
       "    <tr>\n",
       "      <th>4</th>\n",
       "      <td>Количество этажей</td>\n",
       "      <td>0.002710</td>\n",
       "    </tr>\n",
       "    <tr>\n",
       "      <th>5</th>\n",
       "      <td>Вид на воду</td>\n",
       "      <td>0.027284</td>\n",
       "    </tr>\n",
       "    <tr>\n",
       "      <th>6</th>\n",
       "      <td>Просмотрены ранее</td>\n",
       "      <td>0.013444</td>\n",
       "    </tr>\n",
       "    <tr>\n",
       "      <th>7</th>\n",
       "      <td>Состояние</td>\n",
       "      <td>0.003419</td>\n",
       "    </tr>\n",
       "    <tr>\n",
       "      <th>8</th>\n",
       "      <td>Оценка риелтора</td>\n",
       "      <td>0.303193</td>\n",
       "    </tr>\n",
       "    <tr>\n",
       "      <th>9</th>\n",
       "      <td>Площадь без подвала</td>\n",
       "      <td>0.023439</td>\n",
       "    </tr>\n",
       "    <tr>\n",
       "      <th>10</th>\n",
       "      <td>Площадь подвала</td>\n",
       "      <td>0.006314</td>\n",
       "    </tr>\n",
       "    <tr>\n",
       "      <th>11</th>\n",
       "      <td>Год постройки</td>\n",
       "      <td>0.026847</td>\n",
       "    </tr>\n",
       "    <tr>\n",
       "      <th>12</th>\n",
       "      <td>Год реновации</td>\n",
       "      <td>0.002287</td>\n",
       "    </tr>\n",
       "    <tr>\n",
       "      <th>13</th>\n",
       "      <td>Широта</td>\n",
       "      <td>0.178717</td>\n",
       "    </tr>\n",
       "    <tr>\n",
       "      <th>14</th>\n",
       "      <td>Долгота</td>\n",
       "      <td>0.078197</td>\n",
       "    </tr>\n",
       "  </tbody>\n",
       "</table>\n",
       "</div>"
      ],
      "text/plain": [
       "      Название признака  Важность признака\n",
       "0               Спальни           0.003592\n",
       "1                Ванные           0.011982\n",
       "2         Жилая площадь           0.294317\n",
       "3         Общая площадь           0.024258\n",
       "4     Количество этажей           0.002710\n",
       "5           Вид на воду           0.027284\n",
       "6     Просмотрены ранее           0.013444\n",
       "7             Состояние           0.003419\n",
       "8       Оценка риелтора           0.303193\n",
       "9   Площадь без подвала           0.023439\n",
       "10      Площадь подвала           0.006314\n",
       "11        Год постройки           0.026847\n",
       "12        Год реновации           0.002287\n",
       "13               Широта           0.178717\n",
       "14              Долгота           0.078197"
      ]
     },
     "execution_count": 43,
     "metadata": {},
     "output_type": "execute_result"
    }
   ],
   "source": [
    "# выведем полученную таблицу\n",
    "feature_importance"
   ]
  },
  {
   "cell_type": "markdown",
   "metadata": {},
   "source": [
    "Мы можем отсортировать значения по важности, вызвав у *feature_importance* метод **sort_values()**.\n",
    "\n",
    "Обратите внимание, что в данном случае мы передаем два аргумента:\n",
    "\n",
    "1. by='Важность признака' - название столбца, по которому мы сортируем\n",
    "2. ascending=False - означает, что мы сортируем по убиыванию, а в случае ascending=True сортировка будет по возростанию"
   ]
  },
  {
   "cell_type": "code",
   "execution_count": 44,
   "metadata": {},
   "outputs": [
    {
     "data": {
      "text/html": [
       "<div>\n",
       "<style scoped>\n",
       "    .dataframe tbody tr th:only-of-type {\n",
       "        vertical-align: middle;\n",
       "    }\n",
       "\n",
       "    .dataframe tbody tr th {\n",
       "        vertical-align: top;\n",
       "    }\n",
       "\n",
       "    .dataframe thead th {\n",
       "        text-align: right;\n",
       "    }\n",
       "</style>\n",
       "<table border=\"1\" class=\"dataframe\">\n",
       "  <thead>\n",
       "    <tr style=\"text-align: right;\">\n",
       "      <th></th>\n",
       "      <th>Название признака</th>\n",
       "      <th>Важность признака</th>\n",
       "    </tr>\n",
       "  </thead>\n",
       "  <tbody>\n",
       "    <tr>\n",
       "      <th>8</th>\n",
       "      <td>Оценка риелтора</td>\n",
       "      <td>0.303193</td>\n",
       "    </tr>\n",
       "    <tr>\n",
       "      <th>2</th>\n",
       "      <td>Жилая площадь</td>\n",
       "      <td>0.294317</td>\n",
       "    </tr>\n",
       "    <tr>\n",
       "      <th>13</th>\n",
       "      <td>Широта</td>\n",
       "      <td>0.178717</td>\n",
       "    </tr>\n",
       "    <tr>\n",
       "      <th>14</th>\n",
       "      <td>Долгота</td>\n",
       "      <td>0.078197</td>\n",
       "    </tr>\n",
       "    <tr>\n",
       "      <th>5</th>\n",
       "      <td>Вид на воду</td>\n",
       "      <td>0.027284</td>\n",
       "    </tr>\n",
       "    <tr>\n",
       "      <th>11</th>\n",
       "      <td>Год постройки</td>\n",
       "      <td>0.026847</td>\n",
       "    </tr>\n",
       "    <tr>\n",
       "      <th>3</th>\n",
       "      <td>Общая площадь</td>\n",
       "      <td>0.024258</td>\n",
       "    </tr>\n",
       "    <tr>\n",
       "      <th>9</th>\n",
       "      <td>Площадь без подвала</td>\n",
       "      <td>0.023439</td>\n",
       "    </tr>\n",
       "    <tr>\n",
       "      <th>6</th>\n",
       "      <td>Просмотрены ранее</td>\n",
       "      <td>0.013444</td>\n",
       "    </tr>\n",
       "    <tr>\n",
       "      <th>1</th>\n",
       "      <td>Ванные</td>\n",
       "      <td>0.011982</td>\n",
       "    </tr>\n",
       "    <tr>\n",
       "      <th>10</th>\n",
       "      <td>Площадь подвала</td>\n",
       "      <td>0.006314</td>\n",
       "    </tr>\n",
       "    <tr>\n",
       "      <th>0</th>\n",
       "      <td>Спальни</td>\n",
       "      <td>0.003592</td>\n",
       "    </tr>\n",
       "    <tr>\n",
       "      <th>7</th>\n",
       "      <td>Состояние</td>\n",
       "      <td>0.003419</td>\n",
       "    </tr>\n",
       "    <tr>\n",
       "      <th>4</th>\n",
       "      <td>Количество этажей</td>\n",
       "      <td>0.002710</td>\n",
       "    </tr>\n",
       "    <tr>\n",
       "      <th>12</th>\n",
       "      <td>Год реновации</td>\n",
       "      <td>0.002287</td>\n",
       "    </tr>\n",
       "  </tbody>\n",
       "</table>\n",
       "</div>"
      ],
      "text/plain": [
       "      Название признака  Важность признака\n",
       "8       Оценка риелтора           0.303193\n",
       "2         Жилая площадь           0.294317\n",
       "13               Широта           0.178717\n",
       "14              Долгота           0.078197\n",
       "5           Вид на воду           0.027284\n",
       "11        Год постройки           0.026847\n",
       "3         Общая площадь           0.024258\n",
       "9   Площадь без подвала           0.023439\n",
       "6     Просмотрены ранее           0.013444\n",
       "1                Ванные           0.011982\n",
       "10      Площадь подвала           0.006314\n",
       "0               Спальни           0.003592\n",
       "7             Состояние           0.003419\n",
       "4     Количество этажей           0.002710\n",
       "12        Год реновации           0.002287"
      ]
     },
     "execution_count": 44,
     "metadata": {},
     "output_type": "execute_result"
    }
   ],
   "source": [
    "feature_importance.sort_values(by='Важность признака', ascending=False)"
   ]
  },
  {
   "cell_type": "markdown",
   "metadata": {},
   "source": [
    "Как видно, наиболее значимые признаки - это \n",
    "* Жилая площадь \n",
    "* Оценка риелтора\n",
    "* Широта. \n",
    "\n",
    "Наименее важны такие признаки, как \n",
    "* Количество этажей\n",
    "* Год реновации\n",
    "* Состояние\n",
    "* Спальни\n",
    "* Площадь подвала "
   ]
  },
  {
   "cell_type": "markdown",
   "metadata": {},
   "source": [
    "Посмотрим на наиболее значимые признаки. Размер жилой площади квартиры (признак Жилая площадь) очевидным образом влияет на цену: чем больше площадь, тем квартира дороже. Важность оценки состояния квартиры риелтором (признак Оценка риелтора), также понятна. Интересно появление признака Широта в списке наиболее важных. Давайте посмотрим на карту округа Кинг.   "
   ]
  },
  {
   "cell_type": "markdown",
   "metadata": {},
   "source": [
    "![title](map_King_county.jpg)"
   ]
  },
  {
   "cell_type": "markdown",
   "metadata": {},
   "source": [
    "На карте видно, что центр Сиэтла находится в верхней половине карты. Соответственно, чем ближе к нему, тем дороже будет квартира. "
   ]
  }
 ],
 "metadata": {
  "kernelspec": {
   "display_name": "Python 3",
   "language": "python",
   "name": "python3"
  },
  "language_info": {
   "codemirror_mode": {
    "name": "ipython",
    "version": 3
   },
   "file_extension": ".py",
   "mimetype": "text/x-python",
   "name": "python",
   "nbconvert_exporter": "python",
   "pygments_lexer": "ipython3",
   "version": "3.7.6"
  },
  "toc": {
   "base_numbering": 1,
   "nav_menu": {},
   "number_sections": true,
   "sideBar": true,
   "skip_h1_title": false,
   "title_cell": "Table of Contents",
   "title_sidebar": "Contents",
   "toc_cell": false,
   "toc_position": {},
   "toc_section_display": true,
   "toc_window_display": false
  }
 },
 "nbformat": 4,
 "nbformat_minor": 2
}
